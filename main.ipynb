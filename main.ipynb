{
  "cells": [
    {
      "cell_type": "markdown",
      "source": [
        "# Hackaton"
      ],
      "metadata": {
        "id": "-qyq2lF7Jif0"
      },
      "id": "-qyq2lF7Jif0"
    },
    {
      "cell_type": "code",
      "source": [
        "!apt-get install -y build-essential python3-dev\n",
        "!pip install -q -U pystan==2.19.1.1\n",
        "!pip install -q -U prophet"
      ],
      "metadata": {
        "colab": {
          "base_uri": "https://localhost:8080/"
        },
        "id": "OlP4g1XerWE2",
        "outputId": "9bf64ffd-7039-4eda-f544-6b2fa83c626d"
      },
      "id": "OlP4g1XerWE2",
      "execution_count": null,
      "outputs": [
        {
          "output_type": "stream",
          "name": "stdout",
          "text": [
            "Reading package lists... Done\n",
            "Building dependency tree... Done\n",
            "Reading state information... Done\n",
            "build-essential is already the newest version (12.9ubuntu3).\n",
            "python3-dev is already the newest version (3.10.6-1~22.04.1).\n",
            "python3-dev set to manually installed.\n",
            "0 upgraded, 0 newly installed, 0 to remove and 49 not upgraded.\n",
            "\u001b[2K     \u001b[90m━━━━━━━━━━━━━━━━━━━━━━━━━━━━━━━━━━━━━━━━\u001b[0m \u001b[32m16.2/16.2 MB\u001b[0m \u001b[31m89.3 MB/s\u001b[0m eta \u001b[36m0:00:00\u001b[0m\n",
            "\u001b[?25h  Preparing metadata (setup.py) ... \u001b[?25l\u001b[?25hdone\n",
            "  \u001b[1;31merror\u001b[0m: \u001b[1msubprocess-exited-with-error\u001b[0m\n",
            "  \n",
            "  \u001b[31m×\u001b[0m \u001b[32mpython setup.py bdist_wheel\u001b[0m did not run successfully.\n",
            "  \u001b[31m│\u001b[0m exit code: \u001b[1;36m1\u001b[0m\n",
            "  \u001b[31m╰─>\u001b[0m See above for output.\n",
            "  \n",
            "  \u001b[1;35mnote\u001b[0m: This error originates from a subprocess, and is likely not a problem with pip.\n",
            "  Building wheel for pystan (setup.py) ... \u001b[?25lerror\n",
            "\u001b[31m  ERROR: Failed building wheel for pystan\u001b[0m\u001b[31m\n",
            "\u001b[0m\u001b[31mERROR: ERROR: Failed to build installable wheels for some pyproject.toml based projects (pystan)\u001b[0m\u001b[31m\n",
            "\u001b[0m\u001b[?25h"
          ]
        }
      ]
    },
    {
      "cell_type": "code",
      "source": [
        "!pip install -q -U tslearn\n",
        "!pip install -q -U --upgrade pip\n",
        "!pip install -q -U tensorflow"
      ],
      "metadata": {
        "colab": {
          "base_uri": "https://localhost:8080/"
        },
        "collapsed": true,
        "id": "7erzs_R3K-i6",
        "outputId": "2ae488c0-08b3-4dd5-d1f7-6f3647dda953"
      },
      "id": "7erzs_R3K-i6",
      "execution_count": null,
      "outputs": [
        {
          "output_type": "stream",
          "name": "stdout",
          "text": [
            "\u001b[2K   \u001b[90m━━━━━━━━━━━━━━━━━━━━━━━━━━━━━━━━━━━━━━━━\u001b[0m \u001b[32m374.4/374.4 kB\u001b[0m \u001b[31m18.7 MB/s\u001b[0m eta \u001b[36m0:00:00\u001b[0m\n",
            "\u001b[2K   \u001b[90m━━━━━━━━━━━━━━━━━━━━━━━━━━━━━━━━━━━━━━━━\u001b[0m \u001b[32m1.8/1.8 MB\u001b[0m \u001b[31m50.0 MB/s\u001b[0m eta \u001b[36m0:00:00\u001b[0m\n",
            "\u001b[2K   \u001b[90m━━━━━━━━━━━━━━━━━━━━━━━━━━━━━━━━━━━━━━━━\u001b[0m \u001b[32m615.3/615.3 MB\u001b[0m \u001b[31m44.5 MB/s\u001b[0m eta \u001b[36m0:00:00\u001b[0m\n",
            "\u001b[2K   \u001b[90m━━━━━━━━━━━━━━━━━━━━━━━━━━━━━━━━━━━━━━━━\u001b[0m \u001b[32m1.2/1.2 MB\u001b[0m \u001b[31m47.5 MB/s\u001b[0m eta \u001b[36m0:00:00\u001b[0m\n",
            "\u001b[2K   \u001b[90m━━━━━━━━━━━━━━━━━━━━━━━━━━━━━━━━━━━━━━━━\u001b[0m \u001b[32m5.5/5.5 MB\u001b[0m \u001b[31m136.2 MB/s\u001b[0m eta \u001b[36m0:00:00\u001b[0m\n",
            "\u001b[?25h\u001b[31mERROR: pip's dependency resolver does not currently take into account all the packages that are installed. This behaviour is the source of the following dependency conflicts.\n",
            "tf-keras 2.17.0 requires tensorflow<2.18,>=2.17, but you have tensorflow 2.18.0 which is incompatible.\u001b[0m\u001b[31m\n",
            "\u001b[0m"
          ]
        }
      ]
    },
    {
      "cell_type": "code",
      "source": [
        "!pip install openpyxl"
      ],
      "metadata": {
        "colab": {
          "base_uri": "https://localhost:8080/"
        },
        "id": "O_MsIGRTkCd6",
        "outputId": "92f399de-ff59-4091-cfe9-3be20b4fe1a0"
      },
      "id": "O_MsIGRTkCd6",
      "execution_count": null,
      "outputs": [
        {
          "output_type": "stream",
          "name": "stdout",
          "text": [
            "Requirement already satisfied: openpyxl in /usr/local/lib/python3.10/dist-packages (3.1.5)\n",
            "Requirement already satisfied: et-xmlfile in /usr/local/lib/python3.10/dist-packages (from openpyxl) (1.1.0)\n"
          ]
        }
      ]
    },
    {
      "metadata": {
        "ExecuteTime": {
          "end_time": "2024-10-23T00:03:33.898315Z",
          "start_time": "2024-10-23T00:03:33.895318Z"
        },
        "id": "fbc121e30a2defb3"
      },
      "cell_type": "code",
      "source": [
        "import shap\n",
        "import pandas as pd\n",
        "import numpy as np\n",
        "import matplotlib.pyplot as plt\n",
        "import seaborn as sns\n",
        "from keras.models import Sequential\n",
        "from keras.layers import LSTM, Dense, Dropout\n",
        "from tensorflow import group\n",
        "from tensorflow.python.keras.utils.np_utils import normalize\n",
        "from sklearn.preprocessing import MinMaxScaler\n",
        "from tslearn.clustering import TimeSeriesKMeans\n",
        "from keras.layers import LSTM, Dropout, Dense, SimpleRNN, Bidirectional"
      ],
      "id": "fbc121e30a2defb3",
      "outputs": [],
      "execution_count": null
    },
    {
      "cell_type": "code",
      "source": [
        "from google.colab import drive\n",
        "drive.mount('/content/drive')"
      ],
      "metadata": {
        "colab": {
          "base_uri": "https://localhost:8080/"
        },
        "id": "ciipBHA5LNM-",
        "outputId": "12e839af-d768-44d9-f2ab-95a334e49c37"
      },
      "id": "ciipBHA5LNM-",
      "execution_count": null,
      "outputs": [
        {
          "output_type": "stream",
          "name": "stdout",
          "text": [
            "Mounted at /content/drive\n"
          ]
        }
      ]
    },
    {
      "metadata": {
        "ExecuteTime": {
          "end_time": "2024-10-23T00:03:37.950604Z",
          "start_time": "2024-10-23T00:03:37.947258Z"
        },
        "id": "bf3dd462f924a089"
      },
      "cell_type": "code",
      "source": [
        "def compute_elbow(df, max_clusters=7):\n",
        "    \"\"\"\n",
        "    Compute the elbow method for determining the optimal number of clusters using DTW and K-means.\n",
        "\n",
        "    Args:\n",
        "        df (pd.DataFrame): The input DataFrame containing time series data.\n",
        "        max_clusters (int): The maximum number of clusters to test.\n",
        "    \"\"\"\n",
        "    # Normalize\n",
        "    df = normalize(df)\n",
        "    # Reshape the DataFrame into time series data\n",
        "    time_series_data = df.values.reshape((df.shape[0], df.shape[1], 1))\n",
        "    print(f'Shape of time_series_data: {time_series_data.shape}')\n",
        "\n",
        "    inertia = []\n",
        "    k_values = range(1, max_clusters + 1)\n",
        "\n",
        "    for k in k_values:\n",
        "        model = TimeSeriesKMeans(n_clusters=k, metric=\"dtw\", random_state=42)\n",
        "        model.fit(time_series_data)\n",
        "        inertia.append(model.inertia_)\n",
        "        print(f'Completed {k} cluster/s')\n",
        "\n",
        "    # Plotting the elbow\n",
        "    plt.figure(figsize=(12, 6))\n",
        "    plt.plot(k_values, inertia, marker='o')\n",
        "    plt.title('Elbow using DTW & K-means')\n",
        "    plt.xlabel('Number of Clusters (k)')\n",
        "    plt.ylabel('Inertia')\n",
        "    plt.xticks(k_values)  # Optionally show all k values\n",
        "    plt.grid()\n",
        "    plt.show()\n",
        "\n",
        "    return (time_series_data)"
      ],
      "id": "bf3dd462f924a089",
      "outputs": [],
      "execution_count": null
    },
    {
      "metadata": {
        "ExecuteTime": {
          "end_time": "2024-10-23T00:03:37.841896Z",
          "start_time": "2024-10-23T00:03:37.838953Z"
        },
        "id": "60920d43751873ff"
      },
      "cell_type": "code",
      "source": [
        "def process_ISE(df):\n",
        "    \"\"\"\n",
        "    Processes the given DataFrame by filling NaN values,\n",
        "    concatenating the first two rows, and resetting the index.\n",
        "\n",
        "    Args:\n",
        "        df (pd.DataFrame): The DataFrame to process.\n",
        "\n",
        "    Returns:\n",
        "        pd.DataFrame: The processed DataFrame.\n",
        "    \"\"\"\n",
        "\n",
        "    # Fill forward NaN values along each row (axis=1)\n",
        "    df.ffill(axis=1, inplace=True)\n",
        "\n",
        "    # Create a new Series by concatenating the first and second rows as strings\n",
        "    concatenated_row = (df.iloc[0].astype(str) + ' ' + df.iloc[1].astype(str))\n",
        "\n",
        "    # Create a new DataFrame from the concatenated row\n",
        "    new_df = pd.DataFrame([concatenated_row])\n",
        "\n",
        "    # Concatenate the new DataFrame with the remaining rows, dropping the first two rows\n",
        "    df = pd.concat([new_df, df.drop(index=[0, 1])], ignore_index=True)\n",
        "\n",
        "    # Drop any rows with NaN values (if needed; this step is optional)\n",
        "    df.dropna(inplace=True)\n",
        "\n",
        "    # Set the first row of the DataFrame as the new column headers\n",
        "    df.columns = df.iloc[0]\n",
        "\n",
        "    # Remove the first row now that it has been set as the header\n",
        "    df = df[1:]\n",
        "\n",
        "    # Reset the index of the DataFrame, dropping the old index\n",
        "    df.reset_index(drop=True, inplace=True)\n",
        "\n",
        "    return df\n"
      ],
      "id": "60920d43751873ff",
      "outputs": [],
      "execution_count": null
    },
    {
      "metadata": {
        "ExecuteTime": {
          "end_time": "2024-10-23T00:03:37.889886Z",
          "start_time": "2024-10-23T00:03:37.886944Z"
        },
        "id": "5aff608f721aaaf2"
      },
      "cell_type": "code",
      "source": [
        "def normalize(df):\n",
        "    \"\"\"\n",
        "    Cleans the input DataFrame by dropping specified columns, normalizing the entire dataset collectively,\n",
        "    and returning the cleaned and normalized DataFrame.\n",
        "\n",
        "    Args:\n",
        "        df (pd.DataFrame): The input DataFrame containing time series data.\n",
        "\n",
        "    Returns:\n",
        "        pd.DataFrame: The cleaned and normalized DataFrame.\n",
        "    \"\"\"\n",
        "\n",
        "    # Flatten the DataFrame to a 1D array for collective normalization\n",
        "    df = df.loc[:, (df != 0).any(axis=0)]\n",
        "    df.columns = df.columns.astype('int32')\n",
        "    flattened_data = df.values.flatten().reshape(-1, 1).astype(float)\n",
        "\n",
        "    # Normalize the entire dataset\n",
        "    scaler = MinMaxScaler(feature_range=(0, 1))\n",
        "    normalized_flattened_data = scaler.fit_transform(flattened_data)\n",
        "\n",
        "    # Reshape back to original shape\n",
        "    normalized_data = normalized_flattened_data.reshape(df.shape)\n",
        "\n",
        "    # Convert the normalized data back into a DataFrame\n",
        "    normalized_df = pd.DataFrame(normalized_data, columns=df.columns)\n",
        "    normalized_df.reset_index(drop=True, inplace=True)\n",
        "\n",
        "\n",
        "    return normalized_df.reset_index(drop=True), scaler"
      ],
      "id": "5aff608f721aaaf2",
      "outputs": [],
      "execution_count": null
    },
    {
      "cell_type": "code",
      "source": [
        "# prompt: create a function for this that replace the KNETO con un input\n",
        "# # Filter KNETO imp_MARO\n",
        "# knet_columns = [col for col in imp_MARO.columns if col.startswith('KNETO')]\n",
        "# knet_imp_MARO_df = imp_MARO[knet_columns]\n",
        "# knet_imp_MARO_df.columns = [col.split()[1] for col in knet_imp_MARO_df.columns]\n",
        "# knet_imp_MARO_df = knet_imp_MARO_df.iloc[:, :-2]\n",
        "# knet_imp_MARO_df.head(5)\n",
        "\n",
        "def filter_dataframe(df, prefix):\n",
        "  \"\"\"\n",
        "  Filters a DataFrame based on a specified column prefix,\n",
        "  extracts columns with that prefix, renames the columns,\n",
        "  and removes the last two columns.\n",
        "\n",
        "  Args:\n",
        "      df (pd.DataFrame): The input DataFrame.\n",
        "      prefix (str): The prefix to filter columns by.\n",
        "\n",
        "  Returns:\n",
        "      pd.DataFrame: The filtered and processed DataFrame.\n",
        "  \"\"\"\n",
        "  columns_to_filter = [col for col in df.columns if col.startswith(prefix)]\n",
        "  filtered_df = df[columns_to_filter]\n",
        "  filtered_df.columns = [col.split()[1] for col in filtered_df.columns]\n",
        "  filtered_df = filtered_df.iloc[:, :-2]\n",
        "  return filtered_df"
      ],
      "metadata": {
        "id": "-WDrkcz4SJx_"
      },
      "id": "-WDrkcz4SJx_",
      "execution_count": null,
      "outputs": []
    },
    {
      "cell_type": "code",
      "source": [
        "def process_ipp_df(df):\n",
        "  \"\"\"\n",
        "  Processes the IPP DataFrame by dropping specific columns,\n",
        "  removing columns with certain patterns, and renaming columns\n",
        "  with a date sequence.\n",
        "\n",
        "  Args:\n",
        "      df (pd.DataFrame): The input DataFrame.\n",
        "\n",
        "  Returns:\n",
        "      pd.DataFrame: The processed DataFrame.\n",
        "  \"\"\"\n",
        "  try:\n",
        "    codigo = input(\"Ingrese CIIU: \")\n",
        "    if codigo in df['CODIGO'].values:\n",
        "      f = df[df['CODIGO'] == codigo]['DESCRIPTIVA'].values[0]\n",
        "      print(f'La clase {f}fue encontrada')\n",
        "      df = df[df['CODIGO'] == codigo]\n",
        "\n",
        "      # Drop specified columns\n",
        "      IPP_df = df.drop(columns=['NIVEL', 'CODIGO', 'DESCRIPTIVA'])\n",
        "      IPP_df = IPP_df.loc[:, ~IPP_df.columns.str.contains(r'\\(pr\\)\\*')]\n",
        "      IPP_df = IPP_df.loc[:, ~IPP_df.columns.str.contains(r'\\(pr\\*\\)')]\n",
        "      # Define yr\n",
        "      start_month = 12\n",
        "      start_year = 2014\n",
        "      date_sequence = []\n",
        "\n",
        "      for i in range(len(IPP_df.columns)):\n",
        "          date_sequence.append(pd.Timestamp(year=start_year, month=start_month, day=1))\n",
        "          start_month += 1\n",
        "          if start_month > 12:\n",
        "              start_month = 1\n",
        "              start_year += 1\n",
        "\n",
        "      IPP_df.columns = date_sequence\n",
        "      IPP_df.dropna(inplace=True)\n",
        "\n",
        "      IPP_T = IPP_df.transpose()\n",
        "      IPP_T['Date'] = IPP_T.index\n",
        "      IPP_T.reset_index(drop=True, inplace=True)\n",
        "      IPP_T = IPP_T[['Date'] + [col for col in IPP_T.columns if col != 'Date']]\n",
        "\n",
        "      return IPP_T\n",
        "\n",
        "    else:\n",
        "      print('Codigo inválido')\n",
        "      process_ipp_df(df)\n",
        "\n",
        "  except:\n",
        "    print('inválido')\n"
      ],
      "metadata": {
        "id": "4qI8bI2ovVOm"
      },
      "id": "4qI8bI2ovVOm",
      "execution_count": null,
      "outputs": []
    },
    {
      "cell_type": "code",
      "source": [
        "import pandas as pd\n",
        "\n",
        "def process_ipc(df):\n",
        "    # Create a dictionary to map Spanish months to their English equivalent\n",
        "    spanish_months = {\n",
        "        'Enero': 'January', 'Febrero': 'February', 'Marzo': 'March', 'Abril': 'April',\n",
        "        'Mayo': 'May', 'Junio': 'June', 'Julio': 'July', 'Agosto': 'August',\n",
        "        'Septiembre': 'September', 'Octubre': 'October', 'Noviembre': 'November', 'Diciembre': 'December'\n",
        "    }\n",
        "\n",
        "    # Replace the Spanish month names with their English equivalents\n",
        "    df['Mes'] = df['Mes'].replace(spanish_months)\n",
        "\n",
        "    # Combine the 'Año' (Year) and 'Mes' (Month) columns into a single 'Date' column\n",
        "    df['Date'] = pd.to_datetime(df['Año'].astype(str) + ' ' + df['Mes'], format='%Y %B')\n",
        "\n",
        "    # Drop the original 'Año' and 'Mes' columns\n",
        "    df = df.drop(columns=['Año', 'Mes'])\n",
        "\n",
        "    # Reorganize the columns so 'Date' is the first column\n",
        "    df = df[['Date', 'Índice']]\n",
        "\n",
        "    return df\n",
        "\n"
      ],
      "metadata": {
        "id": "QDUIuf8O9uy-"
      },
      "id": "QDUIuf8O9uy-",
      "execution_count": null,
      "outputs": []
    },
    {
      "cell_type": "code",
      "source": [
        "def process_ise(df):\n",
        "  \"\"\"\n",
        "  Processes the ISE DataFrame by dropping specific columns,\n",
        "  removing columns with certain patterns, and renaming columns\n",
        "  with a date sequence.\n",
        "\n",
        "  Args:\n",
        "      df (pd.DataFrame): The input DataFrame.\n",
        "\n",
        "  Returns:\n",
        "      pd.DataFrame: The processed DataFrame.\n",
        "  \"\"\"\n",
        "    # Define yr\n",
        "  start_month = 1\n",
        "  start_year = 2005\n",
        "  date_sequence = []\n",
        "\n",
        "  for i in range(len(df.columns)):\n",
        "      date_sequence.append(pd.Timestamp(year=start_year, month=start_month, day=1))\n",
        "      start_month += 1\n",
        "      if start_month > 12:\n",
        "          start_month = 1\n",
        "          start_year += 1\n",
        "\n",
        "  df.columns = date_sequence\n",
        "  df.dropna(inplace=True)\n",
        "  # IPP_df = IPP_df.T.groupby(IPP_df.T.index.year).mean().T\n",
        "\n",
        "  return df"
      ],
      "metadata": {
        "id": "1OtzXGSaoePm"
      },
      "id": "1OtzXGSaoePm",
      "execution_count": null,
      "outputs": []
    },
    {
      "cell_type": "code",
      "source": [
        "def process_ipc_data(df):\n",
        "    \"\"\"\n",
        "    Function to process IPC data from an Excel file and convert it into a time series format\n",
        "    with dates in datetime format without changing locale.\n",
        "\n",
        "    Parameters:\n",
        "    - file_path (str): The path to the Excel file containing the IPC data.\n",
        "\n",
        "    Returns:\n",
        "    - pd.DataFrame: A DataFrame with two columns:\n",
        "        - 'Fecha' (datetime): The date as a datetime object (month/year).\n",
        "        - 'Indice' (float): The corresponding index value.\n",
        "    \"\"\"\n",
        "\n",
        "\n",
        "   # Dictionary to map Spanish month names to month numbers\n",
        "    month_map = {\n",
        "        'Enero': '01',\n",
        "        'Febrero': '02',\n",
        "        'Marzo': '03',\n",
        "        'Abril': '04',\n",
        "        'Mayo': '05',\n",
        "        'Junio': '06',\n",
        "        'Julio': '07',\n",
        "        'Agosto': '08',\n",
        "        'Septiembre': '09',\n",
        "        'Octubre': '10',\n",
        "        'Noviembre': '11',\n",
        "        'Diciembre': '12'\n",
        "    }\n",
        "\n",
        "    # Map the month names to their corresponding numbers\n",
        "    df['Mes'] = df['Mes'].map(month_map)\n",
        "\n",
        "    # Reshape the DataFrame from wide to long format\n",
        "    df_melt = pd.melt(df, id_vars=['Mes'], var_name='Año', value_name='Indice')\n",
        "\n",
        "    # Combine 'Mes' and 'Año' into a 'Fecha' column in datetime format\n",
        "    df_melt['Date'] = pd.to_datetime(df_melt['Año'].astype(str) + '-' + df_melt['Mes'], format='%Y-%m', errors='coerce')\n",
        "\n",
        "    # Select only 'Fecha' and 'Indice' columns, sort them, and reset the index\n",
        "    df_melt = df_melt[['Date', 'Indice']].sort_values(by='Date').reset_index(drop=True)\n",
        "\n",
        "    return df_melt.dropna().reset_index(drop=True)\n",
        "\n",
        "\n"
      ],
      "metadata": {
        "id": "cBO651vUujsa"
      },
      "id": "cBO651vUujsa",
      "execution_count": null,
      "outputs": []
    },
    {
      "cell_type": "markdown",
      "source": [
        "# Carga de datos\n"
      ],
      "metadata": {
        "id": "hyUV3oyhbb_R"
      },
      "id": "hyUV3oyhbb_R"
    },
    {
      "metadata": {
        "ExecuteTime": {
          "end_time": "2024-10-23T00:03:37.836307Z",
          "start_time": "2024-10-23T00:03:34.025921Z"
        },
        "id": "aa44ba2f49b4826c"
      },
      "cell_type": "code",
      "source": [
        "# Load datasets\n",
        "ventas_MARO = pd.read_excel('/content/drive/MyDrive/Hackaton_TT/ccb_hackaton/data/ventas_MARO.xlsx', skiprows=8)\n",
        "imp_MARO = pd.read_excel('/content/drive/MyDrive/Hackaton_TT/ccb_hackaton/data/imp_MARO.xlsx', skiprows=10)\n",
        "imp_MARO = imp_MARO.groupby(imp_MARO.columns[1]).sum()\n",
        "exp_MARO = pd.read_excel('/content/drive/MyDrive/Hackaton_TT/ccb_hackaton/data/exp_MARO.xlsx', skiprows=9)\n",
        "exp_MARO = exp_MARO.groupby(exp_MARO.columns[1]).sum()\n",
        "prod_MARO = pd.read_excel('/content/drive/MyDrive/Hackaton_TT/ccb_hackaton/data/prod_MARO.xlsx', skiprows=9)\n",
        "prod_MARO = prod_MARO.groupby(exp_MARO.columns[1]).sum()\n",
        "IPP = pd.read_excel('/content/drive/MyDrive/Hackaton_TT/ccb_hackaton/data/IPP.xlsx', sheet_name='1.1', skiprows=5).iloc[:-7]\n",
        "ISE = process_ISE(pd.read_excel('/content/drive/MyDrive/Hackaton_TT/ccb_hackaton/data/ISE.xlsx', sheet_name='Cuadro 1', skiprows=9))[:-48].reset_index(drop=True)\n",
        "# IPC = pd.read_excel('/content/drive/MyDrive/Hackaton_TT/ccb_hackaton/data/IPC.xlsx', sheet_name='13',\n",
        "#                                     skiprows=6).iloc[:-5][['Año', 'Mes', 'Índice']].dropna()\n"
      ],
      "id": "aa44ba2f49b4826c",
      "outputs": [],
      "execution_count": null
    },
    {
      "cell_type": "code",
      "source": [
        "IPC = process_ipc_data(pd.read_excel('/content/drive/MyDrive/Hackaton_TT/ccb_hackaton/data/IPC_1.xlsx',skiprows=8).iloc[:-5])\n"
      ],
      "metadata": {
        "colab": {
          "base_uri": "https://localhost:8080/"
        },
        "id": "_WAPHTAy1UG1",
        "outputId": "ce16915c-8473-4dc6-914b-6092b7fa0452"
      },
      "id": "_WAPHTAy1UG1",
      "execution_count": null,
      "outputs": [
        {
          "output_type": "stream",
          "name": "stderr",
          "text": [
            "<ipython-input-13-4c5f588a0a1f>:33: SettingWithCopyWarning: \n",
            "A value is trying to be set on a copy of a slice from a DataFrame.\n",
            "Try using .loc[row_indexer,col_indexer] = value instead\n",
            "\n",
            "See the caveats in the documentation: https://pandas.pydata.org/pandas-docs/stable/user_guide/indexing.html#returning-a-view-versus-a-copy\n",
            "  df['Mes'] = df['Mes'].map(month_map)\n"
          ]
        }
      ]
    },
    {
      "cell_type": "markdown",
      "source": [
        "# Ingeniería de características"
      ],
      "metadata": {
        "id": "Y_pG40ukbrju"
      },
      "id": "Y_pG40ukbrju"
    },
    {
      "metadata": {
        "ExecuteTime": {
          "end_time": "2024-10-23T00:03:38.009394Z",
          "start_time": "2024-10-23T00:03:38.002977Z"
        },
        "colab": {
          "base_uri": "https://localhost:8080/"
        },
        "id": "15c15a757d5e66ca",
        "outputId": "2f5a00f9-2f63-4df6-eb79-33a0e1e5da24"
      },
      "cell_type": "code",
      "source": [
        "ventas_MARO_df  , scaler_ventas  = normalize(ventas_MARO.drop(ventas_MARO.columns[0:3], axis=1))\n",
        "knet_imp_MARO_df, scaler_imp_knet  = normalize(filter_dataframe(imp_MARO, 'KNETO'))\n",
        "cif_imp_MARO_df , scaler_imp_cif  = normalize(filter_dataframe(imp_MARO, 'CIF'))\n",
        "fob_imp_MARO_df , scaler_imp_fob  = normalize(filter_dataframe(imp_MARO, 'FOB'))\n",
        "knet_exp_MARO_df, scaler_exp_knet  = normalize(filter_dataframe(exp_MARO, 'KNETO'))\n",
        "fob_exp_MARO_df , scaler_exp_fob  = normalize(filter_dataframe(exp_MARO, 'FOB'))\n",
        "# ISE_df            = process_ise(ISE.drop(ISE.columns[0]).iloc[-1:].reset_index(drop=True))\n",
        "IPP_df            = process_ipp_df(IPP)\n",
        "IPC_df            = IPC"
      ],
      "id": "15c15a757d5e66ca",
      "outputs": [
        {
          "output_type": "stream",
          "name": "stdout",
          "text": [
            "Ingrese CIIU: 2100\n",
            "La clase Fabricación de productos farmacéuticos, sustancias químicas medicinales y productos botánicos de uso fue encontrada\n"
          ]
        }
      ],
      "execution_count": null
    },
    {
      "cell_type": "markdown",
      "source": [
        "# Entrenamiento IPC IPP"
      ],
      "metadata": {
        "id": "x5u7jSZ91Z9h"
      },
      "id": "x5u7jSZ91Z9h"
    },
    {
      "cell_type": "code",
      "source": [
        "import numpy as np\n",
        "import pandas as pd\n",
        "from sklearn.preprocessing import MinMaxScaler\n",
        "\n",
        "def preprocess_data_for_lstm(df, window_size=60, feature_range=(0, 1),sc = True):\n",
        "    \"\"\"\n",
        "    Preprocesses a DataFrame for LSTM training:\n",
        "    1. Selects numeric columns.\n",
        "    2. Normalizes using MinMaxScaler.\n",
        "    3. Creates time sequences.\n",
        "\n",
        "    Parameters:\n",
        "    df (pd.DataFrame): The input data.\n",
        "    window_size (int): The size of the time window for sequences.\n",
        "    feature_range (tuple): The feature range for MinMaxScaler.\n",
        "\n",
        "    Returns:\n",
        "    X (np.array): Preprocessed feature sequences for LSTM.\n",
        "    y (np.array): Target sequences for LSTM.\n",
        "    scaler (MinMaxScaler): Scaler fitted on the data (for inverse transformation if needed).\n",
        "    \"\"\"\n",
        "    # Select numeric columns\n",
        "    df_numeric = df.select_dtypes(include=[np.number])\n",
        "    if sc:\n",
        "        # Normalize\n",
        "        scaler = MinMaxScaler(feature_range=feature_range)\n",
        "        scaled_data = scaler.fit_transform(df_numeric)\n",
        "        df_scaled = pd.DataFrame(scaled_data, index=df.index, columns=df_numeric.columns)\n",
        "    else:\n",
        "        df_scaled = df\n",
        "        scaler = None\n",
        "    # Create time sequences\n",
        "    X, y = [], []\n",
        "    for i in range(len(df_scaled) - window_size):\n",
        "        X.append(df_scaled.values[i:i + window_size])\n",
        "        y.append(df_scaled.values[i + window_size])\n",
        "    # Convert to numpy arrays\n",
        "    X = np.array(X)\n",
        "    y = np.array(y)\n",
        "\n",
        "    # Reshape X for LSTM (n_samples, timesteps, n_features)\n",
        "    n_features = X.shape[2]\n",
        "    X = X.reshape((X.shape[0], X.shape[1], n_features))\n",
        "\n",
        "    return df_scaled, X, y, scaler\n"
      ],
      "metadata": {
        "id": "dpq0vNWStuWG"
      },
      "id": "dpq0vNWStuWG",
      "execution_count": null,
      "outputs": []
    },
    {
      "cell_type": "code",
      "source": [
        "from tensorflow.keras.models import Sequential\n",
        "from tensorflow.keras.layers import LSTM, Dropout, Dense\n",
        "from sklearn.model_selection import TimeSeriesSplit\n",
        "\n",
        "def train_and_evaluate_model(X, y, n_splits=3, epochs=20, batch_size=32, n_features=1):\n",
        "    \"\"\"\n",
        "    Trains and evaluates an LSTM model using TimeSeriesSplit cross-validation.\n",
        "\n",
        "    Parameters:\n",
        "    X (np.array): The feature set.\n",
        "    y (np.array): The target set.\n",
        "    n_splits (int): The number of splits for cross-validation.\n",
        "    epochs (int): The number of epochs for training.\n",
        "    batch_size (int): The batch size for training.\n",
        "    n_features (int): The number of features in the dataset.\n",
        "\n",
        "    Returns:\n",
        "    None\n",
        "    \"\"\"\n",
        "    tscv = TimeSeriesSplit(n_splits=n_splits)\n",
        "\n",
        "    for train_index, test_index in tscv.split(X):\n",
        "        # Split data into training and testing sets\n",
        "        X_train, X_test = X[train_index], X[test_index]\n",
        "        y_train, y_test = y[train_index], y[test_index]\n",
        "\n",
        "        # Create and compile the LSTM model\n",
        "        model = Sequential()\n",
        "        model.add(LSTM(units=50, return_sequences=True, input_shape=(X_train.shape[1], n_features)))\n",
        "        model.add(Dropout(0.3))\n",
        "        model.add(LSTM(units=50))\n",
        "        model.add(Dropout(0.3))\n",
        "        model.add(Dense(units=n_features))\n",
        "        model.compile(optimizer='adam', loss='mean_squared_error')\n",
        "\n",
        "        # Train the model\n",
        "        history = model.fit(X_train, y_train, epochs=epochs, batch_size=batch_size)\n",
        "\n",
        "        # Evaluate the model\n",
        "        loss = model.evaluate(X_test, y_test)\n",
        "        print(\"Test Loss:\", loss)\n"
      ],
      "metadata": {
        "id": "bl7YtpZahgxV"
      },
      "id": "bl7YtpZahgxV",
      "execution_count": null,
      "outputs": []
    },
    {
      "cell_type": "code",
      "source": [
        "def predict_next_values(model, scaler, scaled_data, window_size, num_steps):\n",
        "    \"\"\"\n",
        "    Predict the next several values of a time series.\n",
        "\n",
        "    Parameters:\n",
        "        model (keras.Model): The trained model used for prediction.\n",
        "        scaler (sklearn.preprocessing.Scaler): The scaler to inverse transform the predicted data.\n",
        "        scaled_data (numpy.ndarray): The scaled time series data.\n",
        "        window_size (int): The number of time steps used for the prediction.\n",
        "        num_steps (int): The number of future time steps to predict.\n",
        "\n",
        "    Returns:\n",
        "        numpy.ndarray: The predicted future values in the original scale.\n",
        "    \"\"\"\n",
        "    # Prepare the last window of data\n",
        "    last_window = scaled_data.values[-window_size:]\n",
        "    last_window = last_window.reshape((1, last_window.shape[0], last_window.shape[1]))\n",
        "\n",
        "    predictions = []\n",
        "\n",
        "    for _ in range(num_steps):\n",
        "        # Predict the next scaled value\n",
        "        pred_scaled = model.predict(last_window)\n",
        "\n",
        "        # Inverse transform to get the prediction in original scale\n",
        "        pred_original = scaler.inverse_transform(pred_scaled)\n",
        "\n",
        "        # Store the prediction\n",
        "        predictions.append(pred_original[0, 0])  # assuming pred_original is of shape (1, 1)\n",
        "\n",
        "        # Update the last_window by adding the predicted value and removing the oldest one\n",
        "        last_window = np.append(last_window[:, 1:, :], pred_scaled.reshape(1, 1, -1), axis=1)\n",
        "\n",
        "    return np.array(predictions)\n"
      ],
      "metadata": {
        "id": "9IE0i2WvOEgt"
      },
      "id": "9IE0i2WvOEgt",
      "execution_count": null,
      "outputs": []
    },
    {
      "cell_type": "code",
      "source": [
        "def add_predictions_to_dataframe(original_df, predictions):\n",
        "    \"\"\"\n",
        "    Add future predictions to the original dataframe.\n",
        "\n",
        "    Parameters:\n",
        "        original_df (pd.DataFrame): The original dataframe.\n",
        "        predictions (numpy.ndarray): The predicted values.\n",
        "\n",
        "    Returns:\n",
        "        pd.DataFrame: Updated dataframe with predictions.\n",
        "    \"\"\"\n",
        "    # Create a copy of the original dataframe\n",
        "    df_with_predictions = original_df.copy()\n",
        "\n",
        "    # Create a list of dates for the next periods based on the length of predictions\n",
        "    last_date = df_with_predictions['Date'].max()\n",
        "    periods = len(predictions)\n",
        "    future_dates = pd.date_range(start=last_date + pd.DateOffset(months=1), periods=periods, freq='MS')\n",
        "\n",
        "    # Create a temporary dataframe with the predictions\n",
        "    pred_df = pd.DataFrame({'Date': future_dates, original_df.columns[1]: predictions})\n",
        "\n",
        "    # Concatenate the original dataframe with the predictions\n",
        "    df_with_predictions = pd.concat([df_with_predictions, pred_df], ignore_index=True)\n",
        "\n",
        "    return df_with_predictions\n"
      ],
      "metadata": {
        "id": "Sk6bgcX4TLLg"
      },
      "id": "Sk6bgcX4TLLg",
      "execution_count": null,
      "outputs": []
    },
    {
      "cell_type": "code",
      "source": [
        "# Preprocess IPC IPP\n",
        "IPP_window_size = 9\n",
        "IPC_window_size = 8\n",
        "IPP_scaled, X_IPP, y_IPP, scaler_IPP = preprocess_data_for_lstm(IPP_df, window_size=IPP_window_size, sc=True)\n",
        "IPC_scaled, X_IPC, y_IPC, scaler_IPC = preprocess_data_for_lstm(IPC_df, window_size=IPC_window_size, sc=True)\n"
      ],
      "metadata": {
        "id": "-0tBZfEttxqB"
      },
      "id": "-0tBZfEttxqB",
      "execution_count": null,
      "outputs": []
    },
    {
      "cell_type": "code",
      "source": [
        "# Evaluation\n",
        "# train_and_evaluate_model(X_IPP, y_IPP, n_features=X_IPP.shape[2])\n",
        "# train_and_evaluate_model(X_IPC, y_IPC, n_features=X_IPC.shape[2])\n"
      ],
      "metadata": {
        "id": "LAonT988pJcf"
      },
      "id": "LAonT988pJcf",
      "execution_count": null,
      "outputs": []
    },
    {
      "cell_type": "code",
      "source": [
        "def model_lstm_b(X_train, y_train, n):\n",
        "    model = Sequential()\n",
        "    model.add(Bidirectional(LSTM(50, return_sequences=True), input_shape=(X_train.shape[1], X_train.shape[2])))\n",
        "    model.add(Dropout(0.5))\n",
        "    model.add(Bidirectional(LSTM(50, return_sequences=True)))\n",
        "    model.add(Dropout(0.3))\n",
        "    model.add(Bidirectional(LSTM(50)))\n",
        "    model.add(Dropout(0.1))\n",
        "    model.add(Dense(n))\n",
        "    model.compile(optimizer='adam', loss='mean_squared_error')\n",
        "    history = model.fit(X_train, y_train, epochs=20, batch_size=32)\n",
        "    return model, history"
      ],
      "metadata": {
        "id": "iC5ZzXgYZDql"
      },
      "id": "iC5ZzXgYZDql",
      "execution_count": null,
      "outputs": []
    },
    {
      "cell_type": "code",
      "source": [
        "from keras.models import Sequential\n",
        "from keras.layers import Bidirectional, LSTM, Dropout, Dense, BatchNormalization\n",
        "from keras.optimizers import Adam\n",
        "\n",
        "def model_lstm(X_train, y_train, n, learning_rate=0.001):  # Añadimos un parámetro para el learning rate\n",
        "    model = Sequential()\n",
        "\n",
        "    # Definir el optimizador con un learning rate personalizado\n",
        "    optimizer = Adam(learning_rate=learning_rate)\n",
        "\n",
        "    # Primera capa LSTM Bidireccional\n",
        "    model.add(Bidirectional(LSTM(100, return_sequences=True), input_shape=(X_train.shape[1], X_train.shape[2])))\n",
        "    model.add(Dropout(0.5))\n",
        "    model.add(BatchNormalization())\n",
        "\n",
        "    # Segunda capa LSTM Bidireccional\n",
        "    model.add(Bidirectional(LSTM(100, return_sequences=True)))\n",
        "    model.add(Dropout(0.4))\n",
        "    model.add(BatchNormalization())\n",
        "\n",
        "    # Tercera capa LSTM Bidireccional\n",
        "    model.add(Bidirectional(LSTM(100, return_sequences=True)))\n",
        "    model.add(Dropout(0.3))\n",
        "    model.add(BatchNormalization())\n",
        "\n",
        "    # Capa LSTM final\n",
        "    model.add(Bidirectional(LSTM(50)))  # La última capa no necesita return_sequences=True\n",
        "    model.add(Dropout(0.2))\n",
        "\n",
        "    # Capa densa de salida\n",
        "    model.add(Dense(n))\n",
        "\n",
        "    # Compilación del modelo con el optimizador personalizado\n",
        "    model.compile(optimizer=optimizer, loss='mean_squared_error')\n",
        "\n",
        "    # Entrenamiento del modelo\n",
        "    history = model.fit(X_train, y_train, epochs=150, batch_size=100, validation_split=0.2, shuffle=True)\n",
        "\n",
        "    return model, history\n"
      ],
      "metadata": {
        "id": "ngoMnsMy6Dwi"
      },
      "id": "ngoMnsMy6Dwi",
      "execution_count": null,
      "outputs": []
    },
    {
      "cell_type": "code",
      "source": [
        "from prophet import Prophet\n",
        "import pandas as pd\n",
        "\n",
        "def fit_prophet(df, periods, changepoint_prior_scale, seasonality_prior_scale,freq):\n",
        "    \"\"\"\n",
        "    Realiza una predicción futura utilizando el modelo Prophet en base mensual,\n",
        "    manteniendo los datos originales y añadiendo solo las predicciones futuras.\n",
        "\n",
        "    Parámetros:\n",
        "        df (pd.DataFrame): DataFrame con columnas 'Date' (fechas) y la segunda columna\n",
        "                           con los valores a predecir.\n",
        "        periods (int): Número de meses hacia adelante que se quiere predecir.\n",
        "\n",
        "    Retorno:\n",
        "        pd.DataFrame: DataFrame con los datos originales y las predicciones futuras añadidas.\n",
        "    \"\"\"\n",
        "    # Renombrar columnas para Prophet\n",
        "    df = df.rename(columns={df.columns[0]: 'ds', df.columns[1]: 'y'})\n",
        "\n",
        "    # Asegurar formato datetime en 'ds'\n",
        "    df['ds'] = pd.to_datetime(df['ds'])\n",
        "\n",
        "    # Inicializar y ajustar modelo Prophet\n",
        "    model = Prophet(yearly_seasonality=True, changepoint_prior_scale=changepoint_prior_scale, seasonality_prior_scale=seasonality_prior_scale)\n",
        "    model.add_seasonality(name='monthly', period=30.5, fourier_order=5)\n",
        "    model.fit(df)\n",
        "\n",
        "    # Crear DataFrame futuro a partir de la última fecha\n",
        "    future = model.make_future_dataframe(periods=periods, freq=freq)\n",
        "\n",
        "    # Generar predicción\n",
        "    forecast = model.predict(future)\n",
        "\n",
        "    # Filtrar para agregar solo las predicciones futuras\n",
        "    forecast_future = forecast[forecast['ds'] > df['ds'].max()]\n",
        "\n",
        "    # Unir datos originales con las predicciones futuras\n",
        "    combined_df = pd.concat([df, forecast_future[['ds', 'yhat', 'yhat_lower', 'yhat_upper']]], ignore_index=True)\n",
        "\n",
        "    # Formatear fechas para claridad (opcional)\n",
        "    combined_df['ds'] = combined_df['ds'].dt.strftime('%m/%Y')\n",
        "\n",
        "    return forecast_future[['ds', 'yhat', 'yhat_lower', 'yhat_upper']]\n",
        "\n",
        "# Ejemplo de uso con periodos futuros especificados\n",
        "periods = 24\n",
        "forecast_IPP = fit_prophet(IPP_df, periods=periods+1, changepoint_prior_scale=0.01, seasonality_prior_scale=0.01,freq='M')\n",
        "forecast_IPC = fit_prophet(IPC_df, periods=periods, changepoint_prior_scale=0.001, seasonality_prior_scale=0.005,freq='M')\n"
      ],
      "metadata": {
        "colab": {
          "base_uri": "https://localhost:8080/"
        },
        "id": "LI0OFpRqgw0i",
        "outputId": "c4da00fa-d87c-42a4-f60e-be50e3978d6f"
      },
      "id": "LI0OFpRqgw0i",
      "execution_count": null,
      "outputs": [
        {
          "output_type": "stream",
          "name": "stderr",
          "text": [
            "INFO:prophet:Disabling weekly seasonality. Run prophet with weekly_seasonality=True to override this.\n",
            "INFO:prophet:Disabling daily seasonality. Run prophet with daily_seasonality=True to override this.\n",
            "DEBUG:cmdstanpy:input tempfile: /tmp/tmpq5ur_kxf/muccsso1.json\n",
            "DEBUG:cmdstanpy:input tempfile: /tmp/tmpq5ur_kxf/9qxg2gn1.json\n",
            "DEBUG:cmdstanpy:idx 0\n",
            "DEBUG:cmdstanpy:running CmdStan, num_threads: None\n",
            "DEBUG:cmdstanpy:CmdStan args: ['/usr/local/lib/python3.10/dist-packages/prophet/stan_model/prophet_model.bin', 'random', 'seed=2339', 'data', 'file=/tmp/tmpq5ur_kxf/muccsso1.json', 'init=/tmp/tmpq5ur_kxf/9qxg2gn1.json', 'output', 'file=/tmp/tmpq5ur_kxf/prophet_modelwasg0w2i/prophet_model-20241026114310.csv', 'method=optimize', 'algorithm=lbfgs', 'iter=10000']\n",
            "11:43:10 - cmdstanpy - INFO - Chain [1] start processing\n",
            "INFO:cmdstanpy:Chain [1] start processing\n",
            "11:43:10 - cmdstanpy - INFO - Chain [1] done processing\n",
            "INFO:cmdstanpy:Chain [1] done processing\n",
            "/usr/local/lib/python3.10/dist-packages/prophet/forecaster.py:1854: FutureWarning: 'M' is deprecated and will be removed in a future version, please use 'ME' instead.\n",
            "  dates = pd.date_range(\n",
            "INFO:prophet:Disabling weekly seasonality. Run prophet with weekly_seasonality=True to override this.\n",
            "INFO:prophet:Disabling daily seasonality. Run prophet with daily_seasonality=True to override this.\n",
            "DEBUG:cmdstanpy:input tempfile: /tmp/tmpq5ur_kxf/7v7sr1cf.json\n",
            "DEBUG:cmdstanpy:input tempfile: /tmp/tmpq5ur_kxf/u6sas5sz.json\n",
            "DEBUG:cmdstanpy:idx 0\n",
            "DEBUG:cmdstanpy:running CmdStan, num_threads: None\n",
            "DEBUG:cmdstanpy:CmdStan args: ['/usr/local/lib/python3.10/dist-packages/prophet/stan_model/prophet_model.bin', 'random', 'seed=11747', 'data', 'file=/tmp/tmpq5ur_kxf/7v7sr1cf.json', 'init=/tmp/tmpq5ur_kxf/u6sas5sz.json', 'output', 'file=/tmp/tmpq5ur_kxf/prophet_model9i5m5ssd/prophet_model-20241026114310.csv', 'method=optimize', 'algorithm=lbfgs', 'iter=10000']\n",
            "11:43:10 - cmdstanpy - INFO - Chain [1] start processing\n",
            "INFO:cmdstanpy:Chain [1] start processing\n",
            "11:43:10 - cmdstanpy - INFO - Chain [1] done processing\n",
            "INFO:cmdstanpy:Chain [1] done processing\n",
            "11:43:10 - cmdstanpy - ERROR - Chain [1] error: error during processing Operation not permitted\n",
            "ERROR:cmdstanpy:Chain [1] error: error during processing Operation not permitted\n",
            "WARNING:prophet.models:Optimization terminated abnormally. Falling back to Newton.\n",
            "DEBUG:cmdstanpy:input tempfile: /tmp/tmpq5ur_kxf/ipbgb960.json\n",
            "DEBUG:cmdstanpy:input tempfile: /tmp/tmpq5ur_kxf/namo3opp.json\n",
            "DEBUG:cmdstanpy:idx 0\n",
            "DEBUG:cmdstanpy:running CmdStan, num_threads: None\n",
            "DEBUG:cmdstanpy:CmdStan args: ['/usr/local/lib/python3.10/dist-packages/prophet/stan_model/prophet_model.bin', 'random', 'seed=31152', 'data', 'file=/tmp/tmpq5ur_kxf/ipbgb960.json', 'init=/tmp/tmpq5ur_kxf/namo3opp.json', 'output', 'file=/tmp/tmpq5ur_kxf/prophet_model3chdxnh1/prophet_model-20241026114310.csv', 'method=optimize', 'algorithm=newton', 'iter=10000']\n",
            "11:43:10 - cmdstanpy - INFO - Chain [1] start processing\n",
            "INFO:cmdstanpy:Chain [1] start processing\n",
            "11:43:10 - cmdstanpy - INFO - Chain [1] done processing\n",
            "INFO:cmdstanpy:Chain [1] done processing\n",
            "/usr/local/lib/python3.10/dist-packages/prophet/forecaster.py:1854: FutureWarning: 'M' is deprecated and will be removed in a future version, please use 'ME' instead.\n",
            "  dates = pd.date_range(\n"
          ]
        }
      ]
    },
    {
      "cell_type": "code",
      "source": [
        "def calculate_adjusted_forecast(forecast, df, factor):\n",
        "    # Convertir las fechas al formato '%Y-%m' para considerar solo año y mes\n",
        "    forecast['ds'] = pd.to_datetime(forecast['ds']).dt.to_period('M').dt.to_timestamp()\n",
        "    df['Date'] = pd.to_datetime(df['Date']).dt.to_period('M').dt.to_timestamp()\n",
        "\n",
        "    # Unir los DataFrames por la fecha ajustada a mes y año\n",
        "    merged_df = pd.merge(forecast, df, left_on='ds', right_on='Date', how='inner')\n",
        "\n",
        "    # Calculamos la pendiente como la diferencia entre yhat[n+1] y yhat[n]\n",
        "    merged_df['pendiente_yhat'] = merged_df['yhat'].diff()\n",
        "\n",
        "    # Aseguramos que el primer valor sea NaN o cero (según tu preferencia)\n",
        "    merged_df['pendiente_yhat'].fillna(0, inplace=True)  # Rellena NaN con 0\n",
        "\n",
        "    # Ajustamos merged_df['yhat_avg'] conservando la escala de df.columns[1]\n",
        "    merged_df['yhat_avg'] = merged_df[df.columns[1]] + factor*merged_df['pendiente_yhat']\n",
        "\n",
        "    # Opcional: eliminar la columna temporal 'pendiente_yhat' si no se necesita\n",
        "    merged_df.drop(columns=['pendiente_yhat'], inplace=True)\n",
        "\n",
        "    # Ajustar los intervalos de confianza en función del promedio\n",
        "    merged_df['yhat_lower_avg'] = merged_df['yhat_lower'] + (merged_df['yhat_avg'] - merged_df['yhat'])\n",
        "    merged_df['yhat_upper_avg'] = merged_df['yhat_upper'] + (merged_df['yhat_avg'] - merged_df['yhat'])\n",
        "\n",
        "    # Seleccionar las columnas finales en un nuevo DataFrame\n",
        "    result_df = merged_df[['ds', 'yhat_avg', 'yhat_lower_avg', 'yhat_upper_avg']]\n",
        "\n",
        "    return result_df\n",
        "\n",
        "\n"
      ],
      "metadata": {
        "id": "TDfRJND7DDz8"
      },
      "id": "TDfRJND7DDz8",
      "execution_count": null,
      "outputs": []
    },
    {
      "cell_type": "code",
      "source": [
        "# Train both models\n",
        "model_IPP, history_IPP = model_lstm_b(X_IPP, y_IPP,1)\n",
        "model_IPC, history_IPC = model_lstm_b(X_IPC, y_IPC,1)"
      ],
      "metadata": {
        "colab": {
          "base_uri": "https://localhost:8080/"
        },
        "id": "GRNDm1M_HeB8",
        "outputId": "b11fd24d-d075-4b0c-86e5-b70ed293947f"
      },
      "id": "GRNDm1M_HeB8",
      "execution_count": null,
      "outputs": [
        {
          "output_type": "stream",
          "name": "stdout",
          "text": [
            "Epoch 1/20\n"
          ]
        },
        {
          "output_type": "stream",
          "name": "stderr",
          "text": [
            "/usr/local/lib/python3.10/dist-packages/keras/src/layers/rnn/bidirectional.py:107: UserWarning: Do not pass an `input_shape`/`input_dim` argument to a layer. When using Sequential models, prefer using an `Input(shape)` object as the first layer in the model instead.\n",
            "  super().__init__(**kwargs)\n"
          ]
        },
        {
          "output_type": "stream",
          "name": "stdout",
          "text": [
            "\u001b[1m4/4\u001b[0m \u001b[32m━━━━━━━━━━━━━━━━━━━━\u001b[0m\u001b[37m\u001b[0m \u001b[1m7s\u001b[0m 14ms/step - loss: 0.2751\n",
            "Epoch 2/20\n",
            "\u001b[1m4/4\u001b[0m \u001b[32m━━━━━━━━━━━━━━━━━━━━\u001b[0m\u001b[37m\u001b[0m \u001b[1m0s\u001b[0m 18ms/step - loss: 0.0350\n",
            "Epoch 3/20\n",
            "\u001b[1m4/4\u001b[0m \u001b[32m━━━━━━━━━━━━━━━━━━━━\u001b[0m\u001b[37m\u001b[0m \u001b[1m0s\u001b[0m 14ms/step - loss: 0.0397\n",
            "Epoch 4/20\n",
            "\u001b[1m4/4\u001b[0m \u001b[32m━━━━━━━━━━━━━━━━━━━━\u001b[0m\u001b[37m\u001b[0m \u001b[1m0s\u001b[0m 15ms/step - loss: 0.0099\n",
            "Epoch 5/20\n",
            "\u001b[1m4/4\u001b[0m \u001b[32m━━━━━━━━━━━━━━━━━━━━\u001b[0m\u001b[37m\u001b[0m \u001b[1m0s\u001b[0m 15ms/step - loss: 0.0179\n",
            "Epoch 6/20\n",
            "\u001b[1m4/4\u001b[0m \u001b[32m━━━━━━━━━━━━━━━━━━━━\u001b[0m\u001b[37m\u001b[0m \u001b[1m0s\u001b[0m 16ms/step - loss: 0.0099\n",
            "Epoch 7/20\n",
            "\u001b[1m4/4\u001b[0m \u001b[32m━━━━━━━━━━━━━━━━━━━━\u001b[0m\u001b[37m\u001b[0m \u001b[1m0s\u001b[0m 16ms/step - loss: 0.0088\n",
            "Epoch 8/20\n",
            "\u001b[1m4/4\u001b[0m \u001b[32m━━━━━━━━━━━━━━━━━━━━\u001b[0m\u001b[37m\u001b[0m \u001b[1m0s\u001b[0m 16ms/step - loss: 0.0068\n",
            "Epoch 9/20\n",
            "\u001b[1m4/4\u001b[0m \u001b[32m━━━━━━━━━━━━━━━━━━━━\u001b[0m\u001b[37m\u001b[0m \u001b[1m0s\u001b[0m 19ms/step - loss: 0.0053\n",
            "Epoch 10/20\n",
            "\u001b[1m4/4\u001b[0m \u001b[32m━━━━━━━━━━━━━━━━━━━━\u001b[0m\u001b[37m\u001b[0m \u001b[1m0s\u001b[0m 16ms/step - loss: 0.0055\n",
            "Epoch 11/20\n",
            "\u001b[1m4/4\u001b[0m \u001b[32m━━━━━━━━━━━━━━━━━━━━\u001b[0m\u001b[37m\u001b[0m \u001b[1m0s\u001b[0m 15ms/step - loss: 0.0054\n",
            "Epoch 12/20\n",
            "\u001b[1m4/4\u001b[0m \u001b[32m━━━━━━━━━━━━━━━━━━━━\u001b[0m\u001b[37m\u001b[0m \u001b[1m0s\u001b[0m 18ms/step - loss: 0.0049\n",
            "Epoch 13/20\n",
            "\u001b[1m4/4\u001b[0m \u001b[32m━━━━━━━━━━━━━━━━━━━━\u001b[0m\u001b[37m\u001b[0m \u001b[1m0s\u001b[0m 16ms/step - loss: 0.0037\n",
            "Epoch 14/20\n",
            "\u001b[1m4/4\u001b[0m \u001b[32m━━━━━━━━━━━━━━━━━━━━\u001b[0m\u001b[37m\u001b[0m \u001b[1m0s\u001b[0m 15ms/step - loss: 0.0053\n",
            "Epoch 15/20\n",
            "\u001b[1m4/4\u001b[0m \u001b[32m━━━━━━━━━━━━━━━━━━━━\u001b[0m\u001b[37m\u001b[0m \u001b[1m0s\u001b[0m 19ms/step - loss: 0.0038\n",
            "Epoch 16/20\n",
            "\u001b[1m4/4\u001b[0m \u001b[32m━━━━━━━━━━━━━━━━━━━━\u001b[0m\u001b[37m\u001b[0m \u001b[1m0s\u001b[0m 20ms/step - loss: 0.0036\n",
            "Epoch 17/20\n",
            "\u001b[1m4/4\u001b[0m \u001b[32m━━━━━━━━━━━━━━━━━━━━\u001b[0m\u001b[37m\u001b[0m \u001b[1m0s\u001b[0m 18ms/step - loss: 0.0043\n",
            "Epoch 18/20\n",
            "\u001b[1m4/4\u001b[0m \u001b[32m━━━━━━━━━━━━━━━━━━━━\u001b[0m\u001b[37m\u001b[0m \u001b[1m0s\u001b[0m 16ms/step - loss: 0.0042\n",
            "Epoch 19/20\n",
            "\u001b[1m4/4\u001b[0m \u001b[32m━━━━━━━━━━━━━━━━━━━━\u001b[0m\u001b[37m\u001b[0m \u001b[1m0s\u001b[0m 15ms/step - loss: 0.0060\n",
            "Epoch 20/20\n",
            "\u001b[1m4/4\u001b[0m \u001b[32m━━━━━━━━━━━━━━━━━━━━\u001b[0m\u001b[37m\u001b[0m \u001b[1m0s\u001b[0m 15ms/step - loss: 0.0037\n",
            "Epoch 1/20\n",
            "\u001b[1m8/8\u001b[0m \u001b[32m━━━━━━━━━━━━━━━━━━━━\u001b[0m\u001b[37m\u001b[0m \u001b[1m11s\u001b[0m 14ms/step - loss: 0.1322\n",
            "Epoch 2/20\n",
            "\u001b[1m8/8\u001b[0m \u001b[32m━━━━━━━━━━━━━━━━━━━━\u001b[0m\u001b[37m\u001b[0m \u001b[1m0s\u001b[0m 16ms/step - loss: 0.0242\n",
            "Epoch 3/20\n",
            "\u001b[1m8/8\u001b[0m \u001b[32m━━━━━━━━━━━━━━━━━━━━\u001b[0m\u001b[37m\u001b[0m \u001b[1m0s\u001b[0m 15ms/step - loss: 0.0132\n",
            "Epoch 4/20\n",
            "\u001b[1m8/8\u001b[0m \u001b[32m━━━━━━━━━━━━━━━━━━━━\u001b[0m\u001b[37m\u001b[0m \u001b[1m0s\u001b[0m 15ms/step - loss: 0.0054\n",
            "Epoch 5/20\n",
            "\u001b[1m8/8\u001b[0m \u001b[32m━━━━━━━━━━━━━━━━━━━━\u001b[0m\u001b[37m\u001b[0m \u001b[1m0s\u001b[0m 15ms/step - loss: 0.0027\n",
            "Epoch 6/20\n",
            "\u001b[1m8/8\u001b[0m \u001b[32m━━━━━━━━━━━━━━━━━━━━\u001b[0m\u001b[37m\u001b[0m \u001b[1m0s\u001b[0m 15ms/step - loss: 0.0015\n",
            "Epoch 7/20\n",
            "\u001b[1m8/8\u001b[0m \u001b[32m━━━━━━━━━━━━━━━━━━━━\u001b[0m\u001b[37m\u001b[0m \u001b[1m0s\u001b[0m 15ms/step - loss: 0.0015\n",
            "Epoch 8/20\n",
            "\u001b[1m8/8\u001b[0m \u001b[32m━━━━━━━━━━━━━━━━━━━━\u001b[0m\u001b[37m\u001b[0m \u001b[1m0s\u001b[0m 15ms/step - loss: 0.0015\n",
            "Epoch 9/20\n",
            "\u001b[1m8/8\u001b[0m \u001b[32m━━━━━━━━━━━━━━━━━━━━\u001b[0m\u001b[37m\u001b[0m \u001b[1m0s\u001b[0m 15ms/step - loss: 0.0015\n",
            "Epoch 10/20\n",
            "\u001b[1m8/8\u001b[0m \u001b[32m━━━━━━━━━━━━━━━━━━━━\u001b[0m\u001b[37m\u001b[0m \u001b[1m0s\u001b[0m 14ms/step - loss: 0.0020\n",
            "Epoch 11/20\n",
            "\u001b[1m8/8\u001b[0m \u001b[32m━━━━━━━━━━━━━━━━━━━━\u001b[0m\u001b[37m\u001b[0m \u001b[1m0s\u001b[0m 15ms/step - loss: 0.0013\n",
            "Epoch 12/20\n",
            "\u001b[1m8/8\u001b[0m \u001b[32m━━━━━━━━━━━━━━━━━━━━\u001b[0m\u001b[37m\u001b[0m \u001b[1m0s\u001b[0m 16ms/step - loss: 0.0016\n",
            "Epoch 13/20\n",
            "\u001b[1m8/8\u001b[0m \u001b[32m━━━━━━━━━━━━━━━━━━━━\u001b[0m\u001b[37m\u001b[0m \u001b[1m0s\u001b[0m 15ms/step - loss: 0.0015\n",
            "Epoch 14/20\n",
            "\u001b[1m8/8\u001b[0m \u001b[32m━━━━━━━━━━━━━━━━━━━━\u001b[0m\u001b[37m\u001b[0m \u001b[1m0s\u001b[0m 16ms/step - loss: 0.0013\n",
            "Epoch 15/20\n",
            "\u001b[1m8/8\u001b[0m \u001b[32m━━━━━━━━━━━━━━━━━━━━\u001b[0m\u001b[37m\u001b[0m \u001b[1m0s\u001b[0m 16ms/step - loss: 0.0012\n",
            "Epoch 16/20\n",
            "\u001b[1m8/8\u001b[0m \u001b[32m━━━━━━━━━━━━━━━━━━━━\u001b[0m\u001b[37m\u001b[0m \u001b[1m0s\u001b[0m 15ms/step - loss: 0.0013\n",
            "Epoch 17/20\n",
            "\u001b[1m8/8\u001b[0m \u001b[32m━━━━━━━━━━━━━━━━━━━━\u001b[0m\u001b[37m\u001b[0m \u001b[1m0s\u001b[0m 15ms/step - loss: 0.0011\n",
            "Epoch 18/20\n",
            "\u001b[1m8/8\u001b[0m \u001b[32m━━━━━━━━━━━━━━━━━━━━\u001b[0m\u001b[37m\u001b[0m \u001b[1m0s\u001b[0m 16ms/step - loss: 0.0014\n",
            "Epoch 19/20\n",
            "\u001b[1m8/8\u001b[0m \u001b[32m━━━━━━━━━━━━━━━━━━━━\u001b[0m\u001b[37m\u001b[0m \u001b[1m0s\u001b[0m 16ms/step - loss: 0.0010    \n",
            "Epoch 20/20\n",
            "\u001b[1m8/8\u001b[0m \u001b[32m━━━━━━━━━━━━━━━━━━━━\u001b[0m\u001b[37m\u001b[0m \u001b[1m0s\u001b[0m 15ms/step - loss: 0.0011\n"
          ]
        }
      ]
    },
    {
      "cell_type": "code",
      "source": [
        "# Predictions for IPP and IPC\n",
        "pred_ipp = predict_next_values(model_IPP, scaler_IPP, IPP_scaled, IPP_window_size,periods+1)\n",
        "pred_ipc = predict_next_values(model_IPC, scaler_IPC, IPC_scaled, IPC_window_size,periods)"
      ],
      "metadata": {
        "colab": {
          "base_uri": "https://localhost:8080/"
        },
        "id": "Hh_yUOmYOH11",
        "outputId": "37c5fb9a-5bf5-4e82-8035-4610c105e71f"
      },
      "id": "Hh_yUOmYOH11",
      "execution_count": null,
      "outputs": [
        {
          "output_type": "stream",
          "name": "stdout",
          "text": [
            "\u001b[1m1/1\u001b[0m \u001b[32m━━━━━━━━━━━━━━━━━━━━\u001b[0m\u001b[37m\u001b[0m \u001b[1m0s\u001b[0m 24ms/step\n",
            "\u001b[1m1/1\u001b[0m \u001b[32m━━━━━━━━━━━━━━━━━━━━\u001b[0m\u001b[37m\u001b[0m \u001b[1m0s\u001b[0m 24ms/step\n",
            "\u001b[1m1/1\u001b[0m \u001b[32m━━━━━━━━━━━━━━━━━━━━\u001b[0m\u001b[37m\u001b[0m \u001b[1m0s\u001b[0m 25ms/step\n",
            "\u001b[1m1/1\u001b[0m \u001b[32m━━━━━━━━━━━━━━━━━━━━\u001b[0m\u001b[37m\u001b[0m \u001b[1m0s\u001b[0m 23ms/step\n",
            "\u001b[1m1/1\u001b[0m \u001b[32m━━━━━━━━━━━━━━━━━━━━\u001b[0m\u001b[37m\u001b[0m \u001b[1m0s\u001b[0m 23ms/step\n",
            "\u001b[1m1/1\u001b[0m \u001b[32m━━━━━━━━━━━━━━━━━━━━\u001b[0m\u001b[37m\u001b[0m \u001b[1m0s\u001b[0m 25ms/step\n",
            "\u001b[1m1/1\u001b[0m \u001b[32m━━━━━━━━━━━━━━━━━━━━\u001b[0m\u001b[37m\u001b[0m \u001b[1m0s\u001b[0m 24ms/step\n",
            "\u001b[1m1/1\u001b[0m \u001b[32m━━━━━━━━━━━━━━━━━━━━\u001b[0m\u001b[37m\u001b[0m \u001b[1m0s\u001b[0m 24ms/step\n",
            "\u001b[1m1/1\u001b[0m \u001b[32m━━━━━━━━━━━━━━━━━━━━\u001b[0m\u001b[37m\u001b[0m \u001b[1m0s\u001b[0m 24ms/step\n",
            "\u001b[1m1/1\u001b[0m \u001b[32m━━━━━━━━━━━━━━━━━━━━\u001b[0m\u001b[37m\u001b[0m \u001b[1m0s\u001b[0m 24ms/step\n",
            "\u001b[1m1/1\u001b[0m \u001b[32m━━━━━━━━━━━━━━━━━━━━\u001b[0m\u001b[37m\u001b[0m \u001b[1m0s\u001b[0m 23ms/step\n",
            "\u001b[1m1/1\u001b[0m \u001b[32m━━━━━━━━━━━━━━━━━━━━\u001b[0m\u001b[37m\u001b[0m \u001b[1m0s\u001b[0m 21ms/step\n",
            "\u001b[1m1/1\u001b[0m \u001b[32m━━━━━━━━━━━━━━━━━━━━\u001b[0m\u001b[37m\u001b[0m \u001b[1m0s\u001b[0m 21ms/step\n",
            "\u001b[1m1/1\u001b[0m \u001b[32m━━━━━━━━━━━━━━━━━━━━\u001b[0m\u001b[37m\u001b[0m \u001b[1m0s\u001b[0m 22ms/step\n",
            "\u001b[1m1/1\u001b[0m \u001b[32m━━━━━━━━━━━━━━━━━━━━\u001b[0m\u001b[37m\u001b[0m \u001b[1m0s\u001b[0m 22ms/step\n",
            "\u001b[1m1/1\u001b[0m \u001b[32m━━━━━━━━━━━━━━━━━━━━\u001b[0m\u001b[37m\u001b[0m \u001b[1m0s\u001b[0m 20ms/step\n",
            "\u001b[1m1/1\u001b[0m \u001b[32m━━━━━━━━━━━━━━━━━━━━\u001b[0m\u001b[37m\u001b[0m \u001b[1m0s\u001b[0m 23ms/step\n",
            "\u001b[1m1/1\u001b[0m \u001b[32m━━━━━━━━━━━━━━━━━━━━\u001b[0m\u001b[37m\u001b[0m \u001b[1m0s\u001b[0m 27ms/step\n",
            "\u001b[1m1/1\u001b[0m \u001b[32m━━━━━━━━━━━━━━━━━━━━\u001b[0m\u001b[37m\u001b[0m \u001b[1m0s\u001b[0m 21ms/step\n",
            "\u001b[1m1/1\u001b[0m \u001b[32m━━━━━━━━━━━━━━━━━━━━\u001b[0m\u001b[37m\u001b[0m \u001b[1m0s\u001b[0m 21ms/step\n",
            "\u001b[1m1/1\u001b[0m \u001b[32m━━━━━━━━━━━━━━━━━━━━\u001b[0m\u001b[37m\u001b[0m \u001b[1m0s\u001b[0m 22ms/step\n",
            "\u001b[1m1/1\u001b[0m \u001b[32m━━━━━━━━━━━━━━━━━━━━\u001b[0m\u001b[37m\u001b[0m \u001b[1m0s\u001b[0m 22ms/step\n",
            "\u001b[1m1/1\u001b[0m \u001b[32m━━━━━━━━━━━━━━━━━━━━\u001b[0m\u001b[37m\u001b[0m \u001b[1m0s\u001b[0m 22ms/step\n",
            "\u001b[1m1/1\u001b[0m \u001b[32m━━━━━━━━━━━━━━━━━━━━\u001b[0m\u001b[37m\u001b[0m \u001b[1m0s\u001b[0m 21ms/step\n",
            "\u001b[1m1/1\u001b[0m \u001b[32m━━━━━━━━━━━━━━━━━━━━\u001b[0m\u001b[37m\u001b[0m \u001b[1m0s\u001b[0m 23ms/step\n",
            "\u001b[1m1/1\u001b[0m \u001b[32m━━━━━━━━━━━━━━━━━━━━\u001b[0m\u001b[37m\u001b[0m \u001b[1m0s\u001b[0m 22ms/step\n",
            "\u001b[1m1/1\u001b[0m \u001b[32m━━━━━━━━━━━━━━━━━━━━\u001b[0m\u001b[37m\u001b[0m \u001b[1m0s\u001b[0m 22ms/step\n",
            "\u001b[1m1/1\u001b[0m \u001b[32m━━━━━━━━━━━━━━━━━━━━\u001b[0m\u001b[37m\u001b[0m \u001b[1m0s\u001b[0m 20ms/step\n",
            "\u001b[1m1/1\u001b[0m \u001b[32m━━━━━━━━━━━━━━━━━━━━\u001b[0m\u001b[37m\u001b[0m \u001b[1m0s\u001b[0m 21ms/step\n",
            "\u001b[1m1/1\u001b[0m \u001b[32m━━━━━━━━━━━━━━━━━━━━\u001b[0m\u001b[37m\u001b[0m \u001b[1m0s\u001b[0m 26ms/step\n",
            "\u001b[1m1/1\u001b[0m \u001b[32m━━━━━━━━━━━━━━━━━━━━\u001b[0m\u001b[37m\u001b[0m \u001b[1m0s\u001b[0m 23ms/step\n",
            "\u001b[1m1/1\u001b[0m \u001b[32m━━━━━━━━━━━━━━━━━━━━\u001b[0m\u001b[37m\u001b[0m \u001b[1m0s\u001b[0m 22ms/step\n",
            "\u001b[1m1/1\u001b[0m \u001b[32m━━━━━━━━━━━━━━━━━━━━\u001b[0m\u001b[37m\u001b[0m \u001b[1m0s\u001b[0m 22ms/step\n",
            "\u001b[1m1/1\u001b[0m \u001b[32m━━━━━━━━━━━━━━━━━━━━\u001b[0m\u001b[37m\u001b[0m \u001b[1m0s\u001b[0m 23ms/step\n",
            "\u001b[1m1/1\u001b[0m \u001b[32m━━━━━━━━━━━━━━━━━━━━\u001b[0m\u001b[37m\u001b[0m \u001b[1m0s\u001b[0m 22ms/step\n",
            "\u001b[1m1/1\u001b[0m \u001b[32m━━━━━━━━━━━━━━━━━━━━\u001b[0m\u001b[37m\u001b[0m \u001b[1m0s\u001b[0m 25ms/step\n",
            "\u001b[1m1/1\u001b[0m \u001b[32m━━━━━━━━━━━━━━━━━━━━\u001b[0m\u001b[37m\u001b[0m \u001b[1m0s\u001b[0m 22ms/step\n",
            "\u001b[1m1/1\u001b[0m \u001b[32m━━━━━━━━━━━━━━━━━━━━\u001b[0m\u001b[37m\u001b[0m \u001b[1m0s\u001b[0m 23ms/step\n",
            "\u001b[1m1/1\u001b[0m \u001b[32m━━━━━━━━━━━━━━━━━━━━\u001b[0m\u001b[37m\u001b[0m \u001b[1m0s\u001b[0m 22ms/step\n",
            "\u001b[1m1/1\u001b[0m \u001b[32m━━━━━━━━━━━━━━━━━━━━\u001b[0m\u001b[37m\u001b[0m \u001b[1m0s\u001b[0m 23ms/step\n",
            "\u001b[1m1/1\u001b[0m \u001b[32m━━━━━━━━━━━━━━━━━━━━\u001b[0m\u001b[37m\u001b[0m \u001b[1m0s\u001b[0m 21ms/step\n",
            "\u001b[1m1/1\u001b[0m \u001b[32m━━━━━━━━━━━━━━━━━━━━\u001b[0m\u001b[37m\u001b[0m \u001b[1m0s\u001b[0m 24ms/step\n",
            "\u001b[1m1/1\u001b[0m \u001b[32m━━━━━━━━━━━━━━━━━━━━\u001b[0m\u001b[37m\u001b[0m \u001b[1m0s\u001b[0m 24ms/step\n",
            "\u001b[1m1/1\u001b[0m \u001b[32m━━━━━━━━━━━━━━━━━━━━\u001b[0m\u001b[37m\u001b[0m \u001b[1m0s\u001b[0m 23ms/step\n",
            "\u001b[1m1/1\u001b[0m \u001b[32m━━━━━━━━━━━━━━━━━━━━\u001b[0m\u001b[37m\u001b[0m \u001b[1m0s\u001b[0m 23ms/step\n",
            "\u001b[1m1/1\u001b[0m \u001b[32m━━━━━━━━━━━━━━━━━━━━\u001b[0m\u001b[37m\u001b[0m \u001b[1m0s\u001b[0m 24ms/step\n",
            "\u001b[1m1/1\u001b[0m \u001b[32m━━━━━━━━━━━━━━━━━━━━\u001b[0m\u001b[37m\u001b[0m \u001b[1m0s\u001b[0m 20ms/step\n",
            "\u001b[1m1/1\u001b[0m \u001b[32m━━━━━━━━━━━━━━━━━━━━\u001b[0m\u001b[37m\u001b[0m \u001b[1m0s\u001b[0m 22ms/step\n",
            "\u001b[1m1/1\u001b[0m \u001b[32m━━━━━━━━━━━━━━━━━━━━\u001b[0m\u001b[37m\u001b[0m \u001b[1m0s\u001b[0m 23ms/step\n"
          ]
        }
      ]
    },
    {
      "cell_type": "code",
      "source": [
        "ipp_df_with_predictions = add_predictions_to_dataframe(IPP_df, pred_ipp)\n",
        "ipc_df_with_predictions = add_predictions_to_dataframe(IPC_df, pred_ipc)"
      ],
      "metadata": {
        "id": "833ciBlrTf0i"
      },
      "id": "833ciBlrTf0i",
      "execution_count": null,
      "outputs": []
    },
    {
      "cell_type": "code",
      "source": [
        "result_ipp = calculate_adjusted_forecast(forecast_IPP, ipp_df_with_predictions, factor=2)\n",
        "result_ipc = calculate_adjusted_forecast(forecast_IPC, ipc_df_with_predictions, factor=0.23)"
      ],
      "metadata": {
        "colab": {
          "base_uri": "https://localhost:8080/"
        },
        "id": "bFmjAtZYHmJD",
        "outputId": "35f1f54d-5311-42da-c91c-46e84f4d46a5"
      },
      "id": "bFmjAtZYHmJD",
      "execution_count": null,
      "outputs": [
        {
          "output_type": "stream",
          "name": "stderr",
          "text": [
            "<ipython-input-26-ee0351cf2685>:13: FutureWarning: A value is trying to be set on a copy of a DataFrame or Series through chained assignment using an inplace method.\n",
            "The behavior will change in pandas 3.0. This inplace method will never work because the intermediate object on which we are setting values always behaves as a copy.\n",
            "\n",
            "For example, when doing 'df[col].method(value, inplace=True)', try using 'df.method({col: value}, inplace=True)' or df[col] = df[col].method(value) instead, to perform the operation inplace on the original object.\n",
            "\n",
            "\n",
            "  merged_df['pendiente_yhat'].fillna(0, inplace=True)  # Rellena NaN con 0\n",
            "<ipython-input-26-ee0351cf2685>:13: FutureWarning: A value is trying to be set on a copy of a DataFrame or Series through chained assignment using an inplace method.\n",
            "The behavior will change in pandas 3.0. This inplace method will never work because the intermediate object on which we are setting values always behaves as a copy.\n",
            "\n",
            "For example, when doing 'df[col].method(value, inplace=True)', try using 'df.method({col: value}, inplace=True)' or df[col] = df[col].method(value) instead, to perform the operation inplace on the original object.\n",
            "\n",
            "\n",
            "  merged_df['pendiente_yhat'].fillna(0, inplace=True)  # Rellena NaN con 0\n"
          ]
        }
      ]
    },
    {
      "cell_type": "code",
      "source": [
        "import matplotlib.pyplot as plt\n",
        "import pandas as pd\n",
        "\n",
        "# Recorta los datos hasta n - periods\n",
        "ipp_df_with_predictions_trimmed = ipp_df_with_predictions.iloc[:-periods-1]\n",
        "ipc_df_with_predictions_trimmed = ipc_df_with_predictions.iloc[:-periods]\n",
        "\n",
        "plt.figure(figsize=(15, 6))\n",
        "\n",
        "# Plot IPP\n",
        "plt.plot(result_ipp['ds'], result_ipp['yhat_avg'], label='IPP Forecast', color='blue', linestyle='--')\n",
        "plt.fill_between(result_ipp['ds'], result_ipp['yhat_lower_avg'], result_ipp['yhat_upper_avg'], color='blue', alpha=0.2)\n",
        "plt.plot(ipp_df_with_predictions_trimmed['Date'], ipp_df_with_predictions_trimmed[ipp_df_with_predictions_trimmed.columns[1]], label='IPP Actual', color='blue')\n",
        "\n",
        "# Plot IPC\n",
        "plt.plot(result_ipc['ds'], result_ipc['yhat_avg'], label='IPC Forecast', color='red', linestyle='--')\n",
        "plt.fill_between(result_ipc['ds'], result_ipc['yhat_lower_avg'], result_ipc['yhat_upper_avg'], color='red', alpha=0.2)\n",
        "plt.plot(ipc_df_with_predictions_trimmed['Date'], ipc_df_with_predictions_trimmed[ipc_df_with_predictions_trimmed.columns[1]], label='IPC Actual', color='red')\n",
        "\n",
        "plt.xlabel('Date')\n",
        "plt.ylabel('Index Value')\n",
        "plt.title('IPP and IPC Forecast and Actual Values from 2020')\n",
        "plt.legend()\n",
        "plt.grid(True)\n",
        "\n",
        "# Adjust the x-axis limits to start from 2020\n",
        "plt.xlim(pd.to_datetime('2020-01-01'), pd.to_datetime(result_ipp['ds'].max()))\n",
        "\n",
        "plt.show()\n"
      ],
      "metadata": {
        "colab": {
          "base_uri": "https://localhost:8080/",
          "height": 564
        },
        "id": "0y1aiJXDY1Yz",
        "outputId": "4e34b922-d1a7-4707-f683-6459bbf7d713"
      },
      "id": "0y1aiJXDY1Yz",
      "execution_count": null,
      "outputs": [
        {
          "output_type": "display_data",
          "data": {
            "text/plain": [
              "<Figure size 1500x600 with 1 Axes>"
            ],
            "image/png": "[encoded data removed]"
          },
          "metadata": {}
        }
      ]
    },
    {
      "cell_type": "markdown",
      "source": [
        "# Entrenamiento MARO ventas"
      ],
      "metadata": {
        "id": "O6Ij58juGD3h"
      },
      "id": "O6Ij58juGD3h"
    },
    {
      "cell_type": "code",
      "source": [
        "# Concatenate the dataframes vertically, using axis=0\n",
        "lstm_df = pd.concat([knet_imp_MARO_df, cif_imp_MARO_df,\n",
        "                       fob_imp_MARO_df, knet_exp_MARO_df, fob_exp_MARO_df], axis=0).reset_index(drop=True)\n",
        "cluster_df = pd.concat([ventas_MARO_df,lstm_df],axis=0).reset_index(drop=True)\n",
        "# Print the merged dataframe\n",
        "lstm_df.dropna(axis=1, inplace=True)\n",
        "cluster_df.dropna(axis=1, inplace=True)"
      ],
      "metadata": {
        "id": "GCTUI-XCbC6y"
      },
      "id": "GCTUI-XCbC6y",
      "execution_count": null,
      "outputs": []
    },
    {
      "cell_type": "code",
      "source": [
        "# Reshape the DataFrame into time series data\n",
        "# time_series_data = compute_elbow(cluster_df.iloc[:, :-1])"
      ],
      "metadata": {
        "id": "EET1Fun0NNQZ"
      },
      "id": "EET1Fun0NNQZ",
      "execution_count": null,
      "outputs": []
    },
    {
      "cell_type": "code",
      "source": [
        "ts = cluster_df\n",
        "time_series_data = ts.values.reshape((ts.shape[0], ts.shape[1], 1))"
      ],
      "metadata": {
        "id": "2ChN-E65bWaX"
      },
      "id": "2ChN-E65bWaX",
      "execution_count": null,
      "outputs": []
    },
    {
      "metadata": {
        "ExecuteTime": {
          "end_time": "2024-10-23T00:23:50.959156Z",
          "start_time": "2024-10-23T00:23:44.285725Z"
        },
        "id": "94faaa2562d4c4af"
      },
      "cell_type": "code",
      "source": [
        "# Use DTW in KMeans Clustering\n",
        "model = TimeSeriesKMeans(n_clusters=3, metric=\"dtw\", random_state=42)\n",
        "clusters = model.fit_predict(time_series_data)\n",
        "\n",
        "cluster_df['Cluster'] = clusters\n",
        "\n"
      ],
      "id": "94faaa2562d4c4af",
      "outputs": [],
      "execution_count": null
    },
    {
      "cell_type": "code",
      "source": [
        "# Analyzing the clusters\n",
        "\n",
        "for cluster in np.unique(clusters):\n",
        "    plt.figure(figsize=(10, 5))\n",
        "\n",
        "    for series, codigo in zip(time_series_data[clusters == cluster], cluster_df[clusters == cluster]):\n",
        "        plt.plot(cluster_df.columns[:-1], series.ravel(), alpha=0.5, label=codigo)\n",
        "\n",
        "    plt.title(f\"Cluster {cluster}\")\n",
        "    plt.xticks([])\n",
        "    # plt.legend()\n",
        "    plt.show()"
      ],
      "metadata": {
        "colab": {
          "base_uri": "https://localhost:8080/",
          "height": 1000
        },
        "id": "5xy6MeTZ-h1m",
        "outputId": "ff5a48c8-6487-4007-b1dc-051afe5165e3"
      },
      "id": "5xy6MeTZ-h1m",
      "execution_count": null,
      "outputs": [
        {
          "output_type": "display_data",
          "data": {
            "text/plain": [
              "<Figure size 1000x500 with 1 Axes>"
            ],
            "image/png": "[encoded data removed]"
          },
          "metadata": {}
        },
        {
          "output_type": "display_data",
          "data": {
            "text/plain": [
              "<Figure size 1000x500 with 1 Axes>"
            ],
            "image/png": "[encoded data removed]"
          },
          "metadata": {}
        },
        {
          "output_type": "display_data",
          "data": {
            "text/plain": [
              "<Figure size 1000x500 with 1 Axes>"
            ],
            "image/png": "[encoded data removed]"
          },
          "metadata": {}
        }
      ]
    },
    {
      "cell_type": "code",
      "source": [
        "# cluster_df.drop(index=0, inplace=True)\n",
        "# cluster_df.reset_index(drop=True, inplace=True)\n",
        "cluster_df_reshaped = cluster_df[cluster_df['Cluster'] == 1]\n",
        "cluster_df_reshaped.drop(columns=['Cluster'], inplace=True)\n",
        "cluster_df_reshaped.reset_index(drop=True, inplace=True)\n",
        "cluster_df_reshaped"
      ],
      "metadata": {
        "id": "T5E8xU3Ei9tY",
        "colab": {
          "base_uri": "https://localhost:8080/",
          "height": 264
        },
        "outputId": "4d8699d3-1a31-4378-f5e3-3e76f4487b52"
      },
      "id": "T5E8xU3Ei9tY",
      "execution_count": null,
      "outputs": [
        {
          "output_type": "stream",
          "name": "stderr",
          "text": [
            "<ipython-input-148-cbddf9c2d65c>:4: SettingWithCopyWarning: \n",
            "A value is trying to be set on a copy of a slice from a DataFrame\n",
            "\n",
            "See the caveats in the documentation: https://pandas.pydata.org/pandas-docs/stable/user_guide/indexing.html#returning-a-view-versus-a-copy\n",
            "  cluster_df_reshaped.drop(columns=['Cluster'], inplace=True)\n"
          ]
        },
        {
          "output_type": "execute_result",
          "data": {
            "text/plain": [
              "       2012      2013      2014      2015      2016      2017      2018  \\\n",
              "0  0.187226  0.244366  0.299264  0.427575  0.491276  0.418055  0.575845   \n",
              "1  0.163473  0.239139  0.249580  0.308577  0.415184  0.395181  0.433077   \n",
              "2  0.468677  0.524524  0.619394  0.618639  0.601754  0.574500  0.625201   \n",
              "3  0.473873  0.530042  0.626699  0.627017  0.609876  0.582459  0.632438   \n",
              "\n",
              "       2019      2020      2021      2022  \n",
              "0  0.506925  0.532187  0.807141  1.000000  \n",
              "1  0.530127  0.529781  0.584620  0.765991  \n",
              "2  0.702787  0.648327  0.778059  0.833639  \n",
              "3  0.712986  0.651339  0.777034  0.828478  "
            ],
            "text/html": [
              "\n",
              "  <div id=\"df-fc3ed56f-15d4-4742-beaf-cf31746d66cc\" class=\"colab-df-container\">\n",
              "    <div>\n",
              "<style scoped>\n",
              "    .dataframe tbody tr th:only-of-type {\n",
              "        vertical-align: middle;\n",
              "    }\n",
              "\n",
              "    .dataframe tbody tr th {\n",
              "        vertical-align: top;\n",
              "    }\n",
              "\n",
              "    .dataframe thead th {\n",
              "        text-align: right;\n",
              "    }\n",
              "</style>\n",
              "<table border=\"1\" class=\"dataframe\">\n",
              "  <thead>\n",
              "    <tr style=\"text-align: right;\">\n",
              "      <th></th>\n",
              "      <th>2012</th>\n",
              "      <th>2013</th>\n",
              "      <th>2014</th>\n",
              "      <th>2015</th>\n",
              "      <th>2016</th>\n",
              "      <th>2017</th>\n",
              "      <th>2018</th>\n",
              "      <th>2019</th>\n",
              "      <th>2020</th>\n",
              "      <th>2021</th>\n",
              "      <th>2022</th>\n",
              "    </tr>\n",
              "  </thead>\n",
              "  <tbody>\n",
              "    <tr>\n",
              "      <th>0</th>\n",
              "      <td>0.187226</td>\n",
              "      <td>0.244366</td>\n",
              "      <td>0.299264</td>\n",
              "      <td>0.427575</td>\n",
              "      <td>0.491276</td>\n",
              "      <td>0.418055</td>\n",
              "      <td>0.575845</td>\n",
              "      <td>0.506925</td>\n",
              "      <td>0.532187</td>\n",
              "      <td>0.807141</td>\n",
              "      <td>1.000000</td>\n",
              "    </tr>\n",
              "    <tr>\n",
              "      <th>1</th>\n",
              "      <td>0.163473</td>\n",
              "      <td>0.239139</td>\n",
              "      <td>0.249580</td>\n",
              "      <td>0.308577</td>\n",
              "      <td>0.415184</td>\n",
              "      <td>0.395181</td>\n",
              "      <td>0.433077</td>\n",
              "      <td>0.530127</td>\n",
              "      <td>0.529781</td>\n",
              "      <td>0.584620</td>\n",
              "      <td>0.765991</td>\n",
              "    </tr>\n",
              "    <tr>\n",
              "      <th>2</th>\n",
              "      <td>0.468677</td>\n",
              "      <td>0.524524</td>\n",
              "      <td>0.619394</td>\n",
              "      <td>0.618639</td>\n",
              "      <td>0.601754</td>\n",
              "      <td>0.574500</td>\n",
              "      <td>0.625201</td>\n",
              "      <td>0.702787</td>\n",
              "      <td>0.648327</td>\n",
              "      <td>0.778059</td>\n",
              "      <td>0.833639</td>\n",
              "    </tr>\n",
              "    <tr>\n",
              "      <th>3</th>\n",
              "      <td>0.473873</td>\n",
              "      <td>0.530042</td>\n",
              "      <td>0.626699</td>\n",
              "      <td>0.627017</td>\n",
              "      <td>0.609876</td>\n",
              "      <td>0.582459</td>\n",
              "      <td>0.632438</td>\n",
              "      <td>0.712986</td>\n",
              "      <td>0.651339</td>\n",
              "      <td>0.777034</td>\n",
              "      <td>0.828478</td>\n",
              "    </tr>\n",
              "  </tbody>\n",
              "</table>\n",
              "</div>\n",
              "    <div class=\"colab-df-buttons\">\n",
              "\n",
              "  <div class=\"colab-df-container\">\n",
              "    <button class=\"colab-df-convert\" onclick=\"convertToInteractive('df-fc3ed56f-15d4-4742-beaf-cf31746d66cc')\"\n",
              "            title=\"Convert this dataframe to an interactive table.\"\n",
              "            style=\"display:none;\">\n",
              "\n",
              "  <svg xmlns=\"http://www.w3.org/2000/svg\" height=\"24px\" viewBox=\"0 -960 960 960\">\n",
              "    <path d=\"M120-120v-720h720v720H120Zm60-500h600v-160H180v160Zm220 220h160v-160H400v160Zm0 220h160v-160H400v160ZM180-400h160v-160H180v160Zm440 0h160v-160H620v160ZM180-180h160v-160H180v160Zm440 0h160v-160H620v160Z\"/>\n",
              "  </svg>\n",
              "    </button>\n",
              "\n",
              "  <style>\n",
              "    .colab-df-container {\n",
              "      display:flex;\n",
              "      gap: 12px;\n",
              "    }\n",
              "\n",
              "    .colab-df-convert {\n",
              "      background-color: #E8F0FE;\n",
              "      border: none;\n",
              "      border-radius: 50%;\n",
              "      cursor: pointer;\n",
              "      display: none;\n",
              "      fill: #1967D2;\n",
              "      height: 32px;\n",
              "      padding: 0 0 0 0;\n",
              "      width: 32px;\n",
              "    }\n",
              "\n",
              "    .colab-df-convert:hover {\n",
              "      background-color: #E2EBFA;\n",
              "      box-shadow: 0px 1px 2px rgba(60, 64, 67, 0.3), 0px 1px 3px 1px rgba(60, 64, 67, 0.15);\n",
              "      fill: #174EA6;\n",
              "    }\n",
              "\n",
              "    .colab-df-buttons div {\n",
              "      margin-bottom: 4px;\n",
              "    }\n",
              "\n",
              "    [theme=dark] .colab-df-convert {\n",
              "      background-color: #3B4455;\n",
              "      fill: #D2E3FC;\n",
              "    }\n",
              "\n",
              "    [theme=dark] .colab-df-convert:hover {\n",
              "      background-color: #434B5C;\n",
              "      box-shadow: 0px 1px 3px 1px rgba(0, 0, 0, 0.15);\n",
              "      filter: drop-shadow(0px 1px 2px rgba(0, 0, 0, 0.3));\n",
              "      fill: #FFFFFF;\n",
              "    }\n",
              "  </style>\n",
              "\n",
              "    <script>\n",
              "      const buttonEl =\n",
              "        document.querySelector('#df-fc3ed56f-15d4-4742-beaf-cf31746d66cc button.colab-df-convert');\n",
              "      buttonEl.style.display =\n",
              "        google.colab.kernel.accessAllowed ? 'block' : 'none';\n",
              "\n",
              "      async function convertToInteractive(key) {\n",
              "        const element = document.querySelector('#df-fc3ed56f-15d4-4742-beaf-cf31746d66cc');\n",
              "        const dataTable =\n",
              "          await google.colab.kernel.invokeFunction('convertToInteractive',\n",
              "                                                    [key], {});\n",
              "        if (!dataTable) return;\n",
              "\n",
              "        const docLinkHtml = 'Like what you see? Visit the ' +\n",
              "          '<a target=\"_blank\" href=https://colab.research.google.com/notebooks/data_table.ipynb>data table notebook</a>'\n",
              "          + ' to learn more about interactive tables.';\n",
              "        element.innerHTML = '';\n",
              "        dataTable['output_type'] = 'display_data';\n",
              "        await google.colab.output.renderOutput(dataTable, element);\n",
              "        const docLink = document.createElement('div');\n",
              "        docLink.innerHTML = docLinkHtml;\n",
              "        element.appendChild(docLink);\n",
              "      }\n",
              "    </script>\n",
              "  </div>\n",
              "\n",
              "\n",
              "<div id=\"df-c9d7b327-5e7f-4e19-89fd-dabb1de13798\">\n",
              "  <button class=\"colab-df-quickchart\" onclick=\"quickchart('df-c9d7b327-5e7f-4e19-89fd-dabb1de13798')\"\n",
              "            title=\"Suggest charts\"\n",
              "            style=\"display:none;\">\n",
              "\n",
              "<svg xmlns=\"http://www.w3.org/2000/svg\" height=\"24px\"viewBox=\"0 0 24 24\"\n",
              "     width=\"24px\">\n",
              "    <g>\n",
              "        <path d=\"M19 3H5c-1.1 0-2 .9-2 2v14c0 1.1.9 2 2 2h14c1.1 0 2-.9 2-2V5c0-1.1-.9-2-2-2zM9 17H7v-7h2v7zm4 0h-2V7h2v10zm4 0h-2v-4h2v4z\"/>\n",
              "    </g>\n",
              "</svg>\n",
              "  </button>\n",
              "\n",
              "<style>\n",
              "  .colab-df-quickchart {\n",
              "      --bg-color: #E8F0FE;\n",
              "      --fill-color: #1967D2;\n",
              "      --hover-bg-color: #E2EBFA;\n",
              "      --hover-fill-color: #174EA6;\n",
              "      --disabled-fill-color: #AAA;\n",
              "      --disabled-bg-color: #DDD;\n",
              "  }\n",
              "\n",
              "  [theme=dark] .colab-df-quickchart {\n",
              "      --bg-color: #3B4455;\n",
              "      --fill-color: #D2E3FC;\n",
              "      --hover-bg-color: #434B5C;\n",
              "      --hover-fill-color: #FFFFFF;\n",
              "      --disabled-bg-color: #3B4455;\n",
              "      --disabled-fill-color: #666;\n",
              "  }\n",
              "\n",
              "  .colab-df-quickchart {\n",
              "    background-color: var(--bg-color);\n",
              "    border: none;\n",
              "    border-radius: 50%;\n",
              "    cursor: pointer;\n",
              "    display: none;\n",
              "    fill: var(--fill-color);\n",
              "    height: 32px;\n",
              "    padding: 0;\n",
              "    width: 32px;\n",
              "  }\n",
              "\n",
              "  .colab-df-quickchart:hover {\n",
              "    background-color: var(--hover-bg-color);\n",
              "    box-shadow: 0 1px 2px rgba(60, 64, 67, 0.3), 0 1px 3px 1px rgba(60, 64, 67, 0.15);\n",
              "    fill: var(--button-hover-fill-color);\n",
              "  }\n",
              "\n",
              "  .colab-df-quickchart-complete:disabled,\n",
              "  .colab-df-quickchart-complete:disabled:hover {\n",
              "    background-color: var(--disabled-bg-color);\n",
              "    fill: var(--disabled-fill-color);\n",
              "    box-shadow: none;\n",
              "  }\n",
              "\n",
              "  .colab-df-spinner {\n",
              "    border: 2px solid var(--fill-color);\n",
              "    border-color: transparent;\n",
              "    border-bottom-color: var(--fill-color);\n",
              "    animation:\n",
              "      spin 1s steps(1) infinite;\n",
              "  }\n",
              "\n",
              "  @keyframes spin {\n",
              "    0% {\n",
              "      border-color: transparent;\n",
              "      border-bottom-color: var(--fill-color);\n",
              "      border-left-color: var(--fill-color);\n",
              "    }\n",
              "    20% {\n",
              "      border-color: transparent;\n",
              "      border-left-color: var(--fill-color);\n",
              "      border-top-color: var(--fill-color);\n",
              "    }\n",
              "    30% {\n",
              "      border-color: transparent;\n",
              "      border-left-color: var(--fill-color);\n",
              "      border-top-color: var(--fill-color);\n",
              "      border-right-color: var(--fill-color);\n",
              "    }\n",
              "    40% {\n",
              "      border-color: transparent;\n",
              "      border-right-color: var(--fill-color);\n",
              "      border-top-color: var(--fill-color);\n",
              "    }\n",
              "    60% {\n",
              "      border-color: transparent;\n",
              "      border-right-color: var(--fill-color);\n",
              "    }\n",
              "    80% {\n",
              "      border-color: transparent;\n",
              "      border-right-color: var(--fill-color);\n",
              "      border-bottom-color: var(--fill-color);\n",
              "    }\n",
              "    90% {\n",
              "      border-color: transparent;\n",
              "      border-bottom-color: var(--fill-color);\n",
              "    }\n",
              "  }\n",
              "</style>\n",
              "\n",
              "  <script>\n",
              "    async function quickchart(key) {\n",
              "      const quickchartButtonEl =\n",
              "        document.querySelector('#' + key + ' button');\n",
              "      quickchartButtonEl.disabled = true;  // To prevent multiple clicks.\n",
              "      quickchartButtonEl.classList.add('colab-df-spinner');\n",
              "      try {\n",
              "        const charts = await google.colab.kernel.invokeFunction(\n",
              "            'suggestCharts', [key], {});\n",
              "      } catch (error) {\n",
              "        console.error('Error during call to suggestCharts:', error);\n",
              "      }\n",
              "      quickchartButtonEl.classList.remove('colab-df-spinner');\n",
              "      quickchartButtonEl.classList.add('colab-df-quickchart-complete');\n",
              "    }\n",
              "    (() => {\n",
              "      let quickchartButtonEl =\n",
              "        document.querySelector('#df-c9d7b327-5e7f-4e19-89fd-dabb1de13798 button');\n",
              "      quickchartButtonEl.style.display =\n",
              "        google.colab.kernel.accessAllowed ? 'block' : 'none';\n",
              "    })();\n",
              "  </script>\n",
              "</div>\n",
              "\n",
              "  <div id=\"id_3971605c-5c03-45c5-a6cf-1a9a8b442384\">\n",
              "    <style>\n",
              "      .colab-df-generate {\n",
              "        background-color: #E8F0FE;\n",
              "        border: none;\n",
              "        border-radius: 50%;\n",
              "        cursor: pointer;\n",
              "        display: none;\n",
              "        fill: #1967D2;\n",
              "        height: 32px;\n",
              "        padding: 0 0 0 0;\n",
              "        width: 32px;\n",
              "      }\n",
              "\n",
              "      .colab-df-generate:hover {\n",
              "        background-color: #E2EBFA;\n",
              "        box-shadow: 0px 1px 2px rgba(60, 64, 67, 0.3), 0px 1px 3px 1px rgba(60, 64, 67, 0.15);\n",
              "        fill: #174EA6;\n",
              "      }\n",
              "\n",
              "      [theme=dark] .colab-df-generate {\n",
              "        background-color: #3B4455;\n",
              "        fill: #D2E3FC;\n",
              "      }\n",
              "\n",
              "      [theme=dark] .colab-df-generate:hover {\n",
              "        background-color: #434B5C;\n",
              "        box-shadow: 0px 1px 3px 1px rgba(0, 0, 0, 0.15);\n",
              "        filter: drop-shadow(0px 1px 2px rgba(0, 0, 0, 0.3));\n",
              "        fill: #FFFFFF;\n",
              "      }\n",
              "    </style>\n",
              "    <button class=\"colab-df-generate\" onclick=\"generateWithVariable('cluster_df_reshaped')\"\n",
              "            title=\"Generate code using this dataframe.\"\n",
              "            style=\"display:none;\">\n",
              "\n",
              "  <svg xmlns=\"http://www.w3.org/2000/svg\" height=\"24px\"viewBox=\"0 0 24 24\"\n",
              "       width=\"24px\">\n",
              "    <path d=\"M7,19H8.4L18.45,9,17,7.55,7,17.6ZM5,21V16.75L18.45,3.32a2,2,0,0,1,2.83,0l1.4,1.43a1.91,1.91,0,0,1,.58,1.4,1.91,1.91,0,0,1-.58,1.4L9.25,21ZM18.45,9,17,7.55Zm-12,3A5.31,5.31,0,0,0,4.9,8.1,5.31,5.31,0,0,0,1,6.5,5.31,5.31,0,0,0,4.9,4.9,5.31,5.31,0,0,0,6.5,1,5.31,5.31,0,0,0,8.1,4.9,5.31,5.31,0,0,0,12,6.5,5.46,5.46,0,0,0,6.5,12Z\"/>\n",
              "  </svg>\n",
              "    </button>\n",
              "    <script>\n",
              "      (() => {\n",
              "      const buttonEl =\n",
              "        document.querySelector('#id_3971605c-5c03-45c5-a6cf-1a9a8b442384 button.colab-df-generate');\n",
              "      buttonEl.style.display =\n",
              "        google.colab.kernel.accessAllowed ? 'block' : 'none';\n",
              "\n",
              "      buttonEl.onclick = () => {\n",
              "        google.colab.notebook.generateWithVariable('cluster_df_reshaped');\n",
              "      }\n",
              "      })();\n",
              "    </script>\n",
              "  </div>\n",
              "\n",
              "    </div>\n",
              "  </div>\n"
            ],
            "application/vnd.google.colaboratory.intrinsic+json": {
              "type": "dataframe",
              "variable_name": "cluster_df_reshaped",
              "summary": "{\n  \"name\": \"cluster_df_reshaped\",\n  \"rows\": 4,\n  \"fields\": [\n    {\n      \"column\": 2012,\n      \"properties\": {\n        \"dtype\": \"number\",\n        \"std\": 0.17114064825500386,\n        \"min\": 0.16347261587534379,\n        \"max\": 0.4738727323045977,\n        \"num_unique_values\": 4,\n        \"samples\": [\n          0.16347261587534379,\n          0.4738727323045977,\n          0.18722627852212603\n        ],\n        \"semantic_type\": \"\",\n        \"description\": \"\"\n      }\n    },\n    {\n      \"column\": 2013,\n      \"properties\": {\n        \"dtype\": \"number\",\n        \"std\": 0.16488029928543305,\n        \"min\": 0.23913879172597258,\n        \"max\": 0.5300417626519874,\n        \"num_unique_values\": 4,\n        \"samples\": [\n          0.23913879172597258,\n          0.5300417626519874,\n          0.2443661760569683\n        ],\n        \"semantic_type\": \"\",\n        \"description\": \"\"\n      }\n    },\n    {\n      \"column\": 2014,\n      \"properties\": {\n        \"dtype\": \"number\",\n        \"std\": 0.2023198820371124,\n        \"min\": 0.2495803229581827,\n        \"max\": 0.6266994275651905,\n        \"num_unique_values\": 4,\n        \"samples\": [\n          0.2495803229581827,\n          0.6266994275651905,\n          0.2992643716722827\n        ],\n        \"semantic_type\": \"\",\n        \"description\": \"\"\n      }\n    },\n    {\n      \"column\": 2015,\n      \"properties\": {\n        \"dtype\": \"number\",\n        \"std\": 0.1549344355746671,\n        \"min\": 0.308577088195795,\n        \"max\": 0.6270174420106047,\n        \"num_unique_values\": 4,\n        \"samples\": [\n          0.308577088195795,\n          0.6270174420106047,\n          0.4275745968926348\n        ],\n        \"semantic_type\": \"\",\n        \"description\": \"\"\n      }\n    },\n    {\n      \"column\": 2016,\n      \"properties\": {\n        \"dtype\": \"number\",\n        \"std\": 0.09347027246664445,\n        \"min\": 0.41518448273614617,\n        \"max\": 0.6098763563269012,\n        \"num_unique_values\": 4,\n        \"samples\": [\n          0.41518448273614617,\n          0.6098763563269012,\n          0.4912764255127329\n        ],\n        \"semantic_type\": \"\",\n        \"description\": \"\"\n      }\n    },\n    {\n      \"column\": 2017,\n      \"properties\": {\n        \"dtype\": \"number\",\n        \"std\": 0.09971551047608108,\n        \"min\": 0.39518099094162573,\n        \"max\": 0.5824589092735474,\n        \"num_unique_values\": 4,\n        \"samples\": [\n          0.39518099094162573,\n          0.5824589092735474,\n          0.41805516990056446\n        ],\n        \"semantic_type\": \"\",\n        \"description\": \"\"\n      }\n    },\n    {\n      \"column\": 2018,\n      \"properties\": {\n        \"dtype\": \"number\",\n        \"std\": 0.09252501754076779,\n        \"min\": 0.4330770835235471,\n        \"max\": 0.6324382201496935,\n        \"num_unique_values\": 4,\n        \"samples\": [\n          0.4330770835235471,\n          0.6324382201496935,\n          0.5758448974522183\n        ],\n        \"semantic_type\": \"\",\n        \"description\": \"\"\n      }\n    },\n    {\n      \"column\": 2019,\n      \"properties\": {\n        \"dtype\": \"number\",\n        \"std\": 0.10981585667570007,\n        \"min\": 0.5069249078208731,\n        \"max\": 0.7129857062779925,\n        \"num_unique_values\": 4,\n        \"samples\": [\n          0.5301272837451899,\n          0.7129857062779925,\n          0.5069249078208731\n        ],\n        \"semantic_type\": \"\",\n        \"description\": \"\"\n      }\n    },\n    {\n      \"column\": 2020,\n      \"properties\": {\n        \"dtype\": \"number\",\n        \"std\": 0.06863543573661286,\n        \"min\": 0.5297806612515059,\n        \"max\": 0.651338641745816,\n        \"num_unique_values\": 4,\n        \"samples\": [\n          0.5297806612515059,\n          0.651338641745816,\n          0.532187387218557\n        ],\n        \"semantic_type\": \"\",\n        \"description\": \"\"\n      }\n    },\n    {\n      \"column\": 2021,\n      \"properties\": {\n        \"dtype\": \"number\",\n        \"std\": 0.10235199169172002,\n        \"min\": 0.5846196862921632,\n        \"max\": 0.8071410638721688,\n        \"num_unique_values\": 4,\n        \"samples\": [\n          0.5846196862921632,\n          0.7770342996473425,\n          0.8071410638721688\n        ],\n        \"semantic_type\": \"\",\n        \"description\": \"\"\n      }\n    },\n    {\n      \"column\": 2022,\n      \"properties\": {\n        \"dtype\": \"number\",\n        \"std\": 0.10015137305824107,\n        \"min\": 0.7659910385944277,\n        \"max\": 1.0,\n        \"num_unique_values\": 4,\n        \"samples\": [\n          0.7659910385944277,\n          0.828477794931086,\n          1.0\n        ],\n        \"semantic_type\": \"\",\n        \"description\": \"\"\n      }\n    }\n  ]\n}"
            }
          },
          "metadata": {},
          "execution_count": 148
        }
      ]
    },
    {
      "cell_type": "code",
      "source": [
        "window_size =4\n",
        "# Preprocess the data\n",
        "\n",
        "cluster_scaled, X_cluster, y_cluster, scaler_cluster = preprocess_data_for_lstm(cluster_df_reshaped.T, window_size=window_size, sc=False)\n",
        "# train_and_evaluate_model(X_cluster, y_cluster, n_features=X_cluster.shape[2])\n"
      ],
      "metadata": {
        "id": "uOkWDrASMqdU"
      },
      "id": "uOkWDrASMqdU",
      "execution_count": null,
      "outputs": []
    },
    {
      "cell_type": "code",
      "source": [
        "# Train the model\n",
        "model_cluster, history_cluster = model_lstm_b(X_cluster, y_cluster,4)\n"
      ],
      "metadata": {
        "colab": {
          "base_uri": "https://localhost:8080/"
        },
        "id": "-pE8b6vSNfn9",
        "outputId": "0d5f1459-e9a7-4eab-bfe6-2c49e9a879d5"
      },
      "id": "-pE8b6vSNfn9",
      "execution_count": null,
      "outputs": [
        {
          "output_type": "stream",
          "name": "stderr",
          "text": [
            "/usr/local/lib/python3.10/dist-packages/keras/src/layers/rnn/bidirectional.py:107: UserWarning: Do not pass an `input_shape`/`input_dim` argument to a layer. When using Sequential models, prefer using an `Input(shape)` object as the first layer in the model instead.\n",
            "  super().__init__(**kwargs)\n"
          ]
        },
        {
          "output_type": "stream",
          "name": "stdout",
          "text": [
            "Epoch 1/20\n",
            "\u001b[1m1/1\u001b[0m \u001b[32m━━━━━━━━━━━━━━━━━━━━\u001b[0m\u001b[37m\u001b[0m \u001b[1m6s\u001b[0m 6s/step - loss: 0.4151\n",
            "Epoch 2/20\n",
            "\u001b[1m1/1\u001b[0m \u001b[32m━━━━━━━━━━━━━━━━━━━━\u001b[0m\u001b[37m\u001b[0m \u001b[1m0s\u001b[0m 32ms/step - loss: 0.3850\n",
            "Epoch 3/20\n",
            "\u001b[1m1/1\u001b[0m \u001b[32m━━━━━━━━━━━━━━━━━━━━\u001b[0m\u001b[37m\u001b[0m \u001b[1m0s\u001b[0m 31ms/step - loss: 0.3636\n",
            "Epoch 4/20\n",
            "\u001b[1m1/1\u001b[0m \u001b[32m━━━━━━━━━━━━━━━━━━━━\u001b[0m\u001b[37m\u001b[0m \u001b[1m0s\u001b[0m 33ms/step - loss: 0.3294\n",
            "Epoch 5/20\n",
            "\u001b[1m1/1\u001b[0m \u001b[32m━━━━━━━━━━━━━━━━━━━━\u001b[0m\u001b[37m\u001b[0m \u001b[1m0s\u001b[0m 38ms/step - loss: 0.3082\n",
            "Epoch 6/20\n",
            "\u001b[1m1/1\u001b[0m \u001b[32m━━━━━━━━━━━━━━━━━━━━\u001b[0m\u001b[37m\u001b[0m \u001b[1m0s\u001b[0m 31ms/step - loss: 0.2749\n",
            "Epoch 7/20\n",
            "\u001b[1m1/1\u001b[0m \u001b[32m━━━━━━━━━━━━━━━━━━━━\u001b[0m\u001b[37m\u001b[0m \u001b[1m0s\u001b[0m 30ms/step - loss: 0.2564\n",
            "Epoch 8/20\n",
            "\u001b[1m1/1\u001b[0m \u001b[32m━━━━━━━━━━━━━━━━━━━━\u001b[0m\u001b[37m\u001b[0m \u001b[1m0s\u001b[0m 34ms/step - loss: 0.2156\n",
            "Epoch 9/20\n",
            "\u001b[1m1/1\u001b[0m \u001b[32m━━━━━━━━━━━━━━━━━━━━\u001b[0m\u001b[37m\u001b[0m \u001b[1m0s\u001b[0m 31ms/step - loss: 0.1738\n",
            "Epoch 10/20\n",
            "\u001b[1m1/1\u001b[0m \u001b[32m━━━━━━━━━━━━━━━━━━━━\u001b[0m\u001b[37m\u001b[0m \u001b[1m0s\u001b[0m 36ms/step - loss: 0.1333\n",
            "Epoch 11/20\n",
            "\u001b[1m1/1\u001b[0m \u001b[32m━━━━━━━━━━━━━━━━━━━━\u001b[0m\u001b[37m\u001b[0m \u001b[1m0s\u001b[0m 34ms/step - loss: 0.1039\n",
            "Epoch 12/20\n",
            "\u001b[1m1/1\u001b[0m \u001b[32m━━━━━━━━━━━━━━━━━━━━\u001b[0m\u001b[37m\u001b[0m \u001b[1m0s\u001b[0m 35ms/step - loss: 0.0603\n",
            "Epoch 13/20\n",
            "\u001b[1m1/1\u001b[0m \u001b[32m━━━━━━━━━━━━━━━━━━━━\u001b[0m\u001b[37m\u001b[0m \u001b[1m0s\u001b[0m 32ms/step - loss: 0.0546\n",
            "Epoch 14/20\n",
            "\u001b[1m1/1\u001b[0m \u001b[32m━━━━━━━━━━━━━━━━━━━━\u001b[0m\u001b[37m\u001b[0m \u001b[1m0s\u001b[0m 34ms/step - loss: 0.0276\n",
            "Epoch 15/20\n",
            "\u001b[1m1/1\u001b[0m \u001b[32m━━━━━━━━━━━━━━━━━━━━\u001b[0m\u001b[37m\u001b[0m \u001b[1m0s\u001b[0m 32ms/step - loss: 0.0136\n",
            "Epoch 16/20\n",
            "\u001b[1m1/1\u001b[0m \u001b[32m━━━━━━━━━━━━━━━━━━━━\u001b[0m\u001b[37m\u001b[0m \u001b[1m0s\u001b[0m 35ms/step - loss: 0.0639\n",
            "Epoch 17/20\n",
            "\u001b[1m1/1\u001b[0m \u001b[32m━━━━━━━━━━━━━━━━━━━━\u001b[0m\u001b[37m\u001b[0m \u001b[1m0s\u001b[0m 34ms/step - loss: 0.0428\n",
            "Epoch 18/20\n",
            "\u001b[1m1/1\u001b[0m \u001b[32m━━━━━━━━━━━━━━━━━━━━\u001b[0m\u001b[37m\u001b[0m \u001b[1m0s\u001b[0m 31ms/step - loss: 0.0604\n",
            "Epoch 19/20\n",
            "\u001b[1m1/1\u001b[0m \u001b[32m━━━━━━━━━━━━━━━━━━━━\u001b[0m\u001b[37m\u001b[0m \u001b[1m0s\u001b[0m 31ms/step - loss: 0.0736\n",
            "Epoch 20/20\n",
            "\u001b[1m1/1\u001b[0m \u001b[32m━━━━━━━━━━━━━━━━━━━━\u001b[0m\u001b[37m\u001b[0m \u001b[1m0s\u001b[0m 33ms/step - loss: 0.0275\n"
          ]
        }
      ]
    },
    {
      "cell_type": "code",
      "source": [
        "periods_v = round(periods/12)\n",
        "# Predictions\n",
        "pred_cluster = predict_next_values(model_cluster, scaler_ventas, cluster_scaled, window_size,periods_v)\n",
        "\n",
        "# Show predictions\n",
        "print(\"Predicción del siguiente valor de ventas:\", pred_cluster)"
      ],
      "metadata": {
        "colab": {
          "base_uri": "https://localhost:8080/"
        },
        "id": "juoROShzMSpJ",
        "outputId": "ab4114e6-41c7-4aeb-a231-8b16e961d136"
      },
      "id": "juoROShzMSpJ",
      "execution_count": null,
      "outputs": [
        {
          "output_type": "stream",
          "name": "stdout",
          "text": [
            "\u001b[1m1/1\u001b[0m \u001b[32m━━━━━━━━━━━━━━━━━━━━\u001b[0m\u001b[37m\u001b[0m \u001b[1m1s\u001b[0m 589ms/step\n",
            "\u001b[1m1/1\u001b[0m \u001b[32m━━━━━━━━━━━━━━━━━━━━\u001b[0m\u001b[37m\u001b[0m \u001b[1m0s\u001b[0m 23ms/step\n",
            "Predicción del siguiente valor de ventas: [1.3505269e+10 1.4081527e+10]\n"
          ]
        }
      ]
    },
    {
      "cell_type": "markdown",
      "source": [
        "Pendiente entrenamiento"
      ],
      "metadata": {
        "id": "ICn9POMRnZx2"
      },
      "id": "ICn9POMRnZx2"
    },
    {
      "cell_type": "code",
      "source": [
        "!pip install -q -U google-generativeai"
      ],
      "metadata": {
        "id": "GMawYq7PLHBg"
      },
      "id": "GMawYq7PLHBg",
      "execution_count": null,
      "outputs": []
    },
    {
      "cell_type": "code",
      "source": [
        "# Used to securely store your API key\n",
        "from google.colab import userdata\n",
        "import google.generativeai as genai\n",
        "import os\n",
        "\n",
        "import pathlib\n",
        "import textwrap\n",
        "\n",
        "from IPython.display import display\n",
        "from IPython.display import Markdown\n"
      ],
      "metadata": {
        "id": "lg40gZMvLO2s"
      },
      "id": "lg40gZMvLO2s",
      "execution_count": null,
      "outputs": []
    },
    {
      "cell_type": "code",
      "source": [
        "# Or use `os.getenv('GEMINI_API_KEY')` to fetch an environment variable.\n",
        "GOOGLE_API_KEY = userdata.get(\"GEMINI_API_KEY\")\n",
        "\n",
        "genai.configure(api_key=GOOGLE_API_KEY)"
      ],
      "metadata": {
        "id": "LWCF9RykLQ_w"
      },
      "id": "LWCF9RykLQ_w",
      "execution_count": null,
      "outputs": []
    },
    {
      "cell_type": "code",
      "source": [
        "def to_markdown(text):\n",
        "    text = text.replace(\"•\", \"  *\")\n",
        "    return Markdown(textwrap.indent(text, \"> \", predicate=lambda _: True))"
      ],
      "metadata": {
        "id": "gaFFW5gbL6-3"
      },
      "id": "gaFFW5gbL6-3",
      "execution_count": null,
      "outputs": []
    },
    {
      "cell_type": "code",
      "source": [
        "model = genai.GenerativeModel(model_name=\"gemini-1.5-flash-8b-latest\")"
      ],
      "metadata": {
        "collapsed": true,
        "id": "jzJ6kbYgHch-"
      },
      "id": "jzJ6kbYgHch-",
      "execution_count": null,
      "outputs": []
    },
    {
      "cell_type": "code",
      "source": [
        "to_markdown(model.generate_content('Eres un científico de datos (Actua como el proveedor de los datos, de la responsabilidad civil me encargo yo): necesito que le expliques a un empresario, de manera muy simple (como para los emprendedores que no tienen mucha experiencia), los resultados'+\n",
        "                                  ' de las predicciones basadas en este dataset obtenido de la base de datos MARO'+str(ventas_MARO_df.T)+\n",
        "                                   '; estos son los factores económicos tenidos en cuenta, estraidos del DANE. IPP: '+str(IPP)+' IPC:'+str(IPC)+', predicción IPP para los próximos '+str(periods)+' meses, es IPP: '+str(pred_ipp)+', IPC para el siguiente mes: '+str(pred_ipc)+\n",
        "                                   ' y esta es la predicción de ventas en el sector farmacéutico, para el año 2023 y 2024 en millones de pesos colombianos'+str(pred_cluster)+\n",
        "                                   'Agrega una sugerencia de decisión basado en el creciemiento del sector y en los indices IPP e IPC que hemos predicho.'+\n",
        "                                   'Estas predicciones las obtuvimos con modelos LSTM, DTW y prophet, por si consideras que es necesario dentro del análisis.'+\n",
        "                                   'genera un anàlisis como los de fitchsolutions').text)"
      ],
      "metadata": {
        "colab": {
          "base_uri": "https://localhost:8080/",
          "height": 871
        },
        "id": "ecyU7Le9MvjC",
        "outputId": "4c74a7fa-3615-4e3a-cfd2-d53d23702aac"
      },
      "id": "ecyU7Le9MvjC",
      "execution_count": 179,
      "outputs": [
        {
          "output_type": "execute_result",
          "data": {
            "text/plain": [
              "<IPython.core.display.Markdown object>"
            ],
            "text/markdown": "> Estimado empresario,\n> \n> Le presento un análisis de las predicciones de ventas para el sector farmacéutico en Colombia, considerando datos económicos y proyecciones para los próximos años.  Este análisis se basa en los resultados de modelos predictivos (LSTM, DTW, Prophet).\n> \n> **Resumen Ejecutivo:**\n> \n> Las predicciones indican un crecimiento positivo del sector farmacéutico en los próximos años, respaldado por una tendencia al alza en el Índice de Precios al Productor (IPP) y el Índice de Precios al Consumidor (IPC).  Sin embargo, hay variables que deben ser monitoreadas.\n> \n> **Análisis Detallado:**\n> \n> * **Predicción de Ventas (2023-2024):** Las proyecciones muestran un incremento significativo en las ventas del sector farmacéutico, de aproximadamente [1.3505269e+10] millones de pesos en 2023 y [1.4081527e+10] millones de pesos en 2024.  Esto sugiere un potencial de crecimiento en el sector.\n> \n> * **Indicadores Económicos (IPP e IPC):**  El IPP muestra una tendencia al alza significativa en los próximos 24 meses, con valores proyectados entre [169.36899] y [179.53055].  El IPC también proyecta un crecimiento, con valores estimados en [147.30585] y hasta [168.13853] en los próximos meses. Este crecimiento del IPP e IPC, podría indicar un aumento del poder adquisitivo del consumidor, lo que favorecería la demanda del sector farmacéutico.\n> \n> * **Metodología de Predicción:** Se utilizaron modelos de aprendizaje automático (LSTM, DTW, Prophet) para obtener estas predicciones.  Los resultados obtenidos parecen robustos, aunque es importante considerar la eventualidad inherente a las predicciones económicas y de mercado.\n> \n> **Consideraciones Clave:**\n> \n> * **Crecimiento Moderado:** El incremento en las ventas proyectado, aunque positivo, podría no ser tan explosivo como lo han sido en otros periodos. Por ello, se recomienda una estrategia que incluya diversificación de productos y/o clientes, con miras a aumentar la participación de mercado.\n> \n> * **Análisis de Factores Externos:** Aunque las predicciones son positivas, hay factores externos como la competencia, la regulación y los cambios en los hábitos de consumo que pueden afectar las proyecciones. El análisis económico macro no contempla todas las variables del mercado real. Es crucial realizar un monitoreo continuo de las condiciones de mercado para detectar y adaptarse a cambios inesperados.\n> \n> * **Análisis de la Competencia:**  Un análisis de la competencia es crítico. La comprensión del comportamiento y estrategias de los competidores, es esencial para determinar una posición sólida en el mercado.\n> \n> **Recomendaciones:**\n> \n> * **Estrategia de Inversión:** Aproveche este potencial de crecimiento.  Considere inversiones estratégicas en expansión, I+D, o nuevas líneas de productos para sostener la tendencia alcista y aumentar la participación de mercado.\n> \n> * **Monitorización:** Continúe monitoreando los indicadores económicos, la competencia y los cambios en el mercado.  El uso de datos en tiempo real es fundamental para la toma de decisiones en el entorno actual.\n> \n> * **Diversificación:** Explore oportunidades de diversificación dentro del sector o en mercados complementarios. Se debe considerar la importancia de diversificar las líneas de productos para mitigar las eventualidades.\n> \n> * **Preparación para eventualidades:**  Las predicciones son estimaciones, no certezas.  Desarrolle planes de contingencia para enfrentar potenciales imprevistos (situaciones económicas, de mercado, etc.).\n> \n> \n> **En resumen:**\n> \n> Las proyecciones sugieren un futuro promisorio para el sector farmacéutico en Colombia, con un crecimiento gradual en los próximos años. Sin embargo, una estrategia integral, centrada en el análisis constante del mercado y la diversificación, es crucial para asegurar una sólida posición competitiva.\n> \n> **Nota:** Este análisis se basa en los datos proporcionados.  Es fundamental una evaluación más profunda considerando factores específicos del sector y del contexto actual.\n> \n> \n> \n> \n"
          },
          "metadata": {},
          "execution_count": 179
        }
      ]
    },
    {
      "cell_type": "code",
      "source": [
        "# prompt: exporta result_ipp en formato csv\n",
        "\n",
        "result_ipp_csv.to_csv('result_ipp.csv', index=True)\n",
        "result_ipc_csv.to_csv('result_ipc.csv', index=True)\n",
        "IPC_df.to_csv('IPC.csv', index=True)\n",
        "IPP_df.to_csv('IPP.csv', index=True)\n",
        "ventas_MARO_df.T.to_csv('ventas_MARO.csv', index=True)\n",
        "pd.DataFrame(pred_cluster).to_csv('pred_cluster.csv', index=True)\n"
      ],
      "metadata": {
        "id": "WhvgrvgYrdRU"
      },
      "id": "WhvgrvgYrdRU",
      "execution_count": null,
      "outputs": []
    },
    {
      "cell_type": "code",
      "source": [
        "# Concatenate the original series with the predictions for IPP and IPC\n",
        "result_ipp_csv = pd.concat([IPP_df, pd.DataFrame({'Date': result_ipp['ds'], IPP_df.columns[1]: result_ipp['yhat_avg']})], ignore_index=True)\n",
        "result_ipc_csv = pd.concat([IPC_df, pd.DataFrame({'Date': result_ipc['ds'], IPC_df.columns[1]: result_ipc['yhat_avg']})], ignore_index=True)"
      ],
      "metadata": {
        "id": "_gSVN-Xj5wKq"
      },
      "id": "_gSVN-Xj5wKq",
      "execution_count": null,
      "outputs": []
    },
    {
      "cell_type": "code",
      "source": [
        "# prompt: concatena estos dos ventas_MARO_df.T. y pd.DataFrame(pred_cluster)\n",
        "\n",
        "# Concatenate ventas_MARO_df.T and pd.DataFrame(pred_cluster) horizontally\n",
        "concatenated_df = pd.concat([ventas_MARO_df.T, pd.DataFrame(pred_cluster)], axis=1)\n",
        "\n",
        "# Print the concatenated dataframe\n",
        "concatenated_df"
      ],
      "metadata": {
        "id": "RJ2J0Fdzsemn"
      },
      "id": "RJ2J0Fdzsemn",
      "execution_count": null,
      "outputs": []
    },
    {
      "cell_type": "code",
      "source": [
        "!pip install -q -U pytrends"
      ],
      "metadata": {
        "id": "jhDN7SH5Ojhf"
      },
      "id": "jhDN7SH5Ojhf",
      "execution_count": null,
      "outputs": []
    },
    {
      "cell_type": "code",
      "source": [
        "from pytrends.request import TrendReq\n",
        "pytrends = TrendReq(hl='es-CO', tz=360)  # hl: idioma, tz: zona horaria\n"
      ],
      "metadata": {
        "id": "f33b-o0kRrA9"
      },
      "id": "f33b-o0kRrA9",
      "execution_count": null,
      "outputs": []
    },
    {
      "cell_type": "code",
      "source": [
        "kw_list = [\"Farmaceutico\", \"dermo cosmetica \", \"crecimiento\"]\n",
        "pytrends.build_payload(kw_list, cat=0, geo='CO', timeframe='today 5-y')  # cat: categoría, geo: región, timeframe: rango de fechas\n",
        "df = pytrends.interest_over_time()\n",
        "df"
      ],
      "metadata": {
        "id": "CDyvsqMHR0Z8"
      },
      "id": "CDyvsqMHR0Z8",
      "execution_count": null,
      "outputs": []
    },
    {
      "cell_type": "markdown",
      "source": [
        "Valor de la idea con àmara de comercio. Idea energetica"
      ],
      "metadata": {
        "id": "yxOfIVhLe0Qm"
      },
      "id": "yxOfIVhLe0Qm"
    }
  ],
  "metadata": {
    "kernelspec": {
      "display_name": "Python 3",
      "name": "python3"
    },
    "language_info": {
      "codemirror_mode": {
        "name": "ipython",
        "version": 2
      },
      "file_extension": ".py",
      "mimetype": "text/x-python",
      "name": "python",
      "nbconvert_exporter": "python",
      "pygments_lexer": "ipython2",
      "version": "2.7.6"
    },
    "colab": {
      "provenance": [],
      "machine_shape": "hm"
    }
  },
  "nbformat": 4,
  "nbformat_minor": 5
}